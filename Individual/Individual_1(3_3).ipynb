{
 "cells": [
  {
   "cell_type": "markdown",
   "id": "16f2d22f",
   "metadata": {},
   "source": [
    "# Индивидуальное задание №1.\n",
    "Создать ноутбук, в котором будут приведены собственные примеры на языке Python для каждого из представленных свойств матричных вы-числений."
   ]
  },
  {
   "cell_type": "code",
   "execution_count": 1,
   "id": "00e2b256",
   "metadata": {},
   "outputs": [],
   "source": [
    "import numpy as np"
   ]
  },
  {
   "cell_type": "markdown",
   "id": "51474559",
   "metadata": {},
   "source": [
    "Свойство 1. Дважды транспонированная матрица равна исходной матрице:"
   ]
  },
  {
   "cell_type": "code",
   "execution_count": 2,
   "id": "5fbcf433",
   "metadata": {},
   "outputs": [
    {
     "name": "stdout",
     "output_type": "stream",
     "text": [
      "[[4 5 6 7]\n",
      " [2 1 3 3]\n",
      " [1 1 1 1]]\n"
     ]
    }
   ],
   "source": [
    "A = np.matrix('4 5 6 7; 2 1 3 3; 1 1 1 1')\n",
    "print(A)"
   ]
  },
  {
   "cell_type": "code",
   "execution_count": 3,
   "id": "9c94c6c5",
   "metadata": {},
   "outputs": [
    {
     "name": "stdout",
     "output_type": "stream",
     "text": [
      "[[4 5 6 7]\n",
      " [2 1 3 3]\n",
      " [1 1 1 1]]\n"
     ]
    }
   ],
   "source": [
    "R = (A.T).T\n",
    "print(R)"
   ]
  },
  {
   "cell_type": "markdown",
   "id": "c8fedd57",
   "metadata": {},
   "source": [
    "Свойство 2. Транспонирование суммы матриц равно сумме транспонированных матриц:"
   ]
  },
  {
   "cell_type": "code",
   "execution_count": 4,
   "id": "38026d27",
   "metadata": {},
   "outputs": [
    {
     "name": "stdout",
     "output_type": "stream",
     "text": [
      "[[ 5  4 16]\n",
      " [ 6  2 16]\n",
      " [ 7  6 18]\n",
      " [ 8  6  2]]\n"
     ]
    }
   ],
   "source": [
    "A = np.matrix('1 1 1 1; 2 1 3 3; 8 8 9 1')\n",
    "B = np.matrix('4 5 6 7; 2 1 3 3; 8 8 9 1')\n",
    "L = (A + B).T\n",
    "R = A.T + B.T\n",
    "print(L)"
   ]
  },
  {
   "cell_type": "code",
   "execution_count": 5,
   "id": "7744a7d8",
   "metadata": {},
   "outputs": [
    {
     "name": "stdout",
     "output_type": "stream",
     "text": [
      "[[ 5  4 16]\n",
      " [ 6  2 16]\n",
      " [ 7  6 18]\n",
      " [ 8  6  2]]\n"
     ]
    }
   ],
   "source": [
    "print(R)"
   ]
  },
  {
   "cell_type": "markdown",
   "id": "4f8f78ab",
   "metadata": {},
   "source": [
    "Свойство 3. Транспонирование произведения матриц равно произведению транспонированных\n",
    "матриц расставленных в обратном порядке:"
   ]
  },
  {
   "cell_type": "code",
   "execution_count": 9,
   "id": "da2717db",
   "metadata": {},
   "outputs": [
    {
     "name": "stdout",
     "output_type": "stream",
     "text": [
      "Транспонирование произведения матриц: \n",
      " [[14 34 58]\n",
      " [15 38 58]\n",
      " [10 18 76]]\n"
     ]
    }
   ],
   "source": [
    "A = np.matrix('1 1 1; 2 1 3; 8 9 1')\n",
    "B = np.matrix('4 5 6; 2 1 3; 8 9 1')\n",
    "L = (A.dot(B)).T\n",
    "print('Транспонирование произведения матриц: \\n', L)"
   ]
  },
  {
   "cell_type": "code",
   "execution_count": 11,
   "id": "49803c1e",
   "metadata": {},
   "outputs": [
    {
     "name": "stdout",
     "output_type": "stream",
     "text": [
      "Произведение транспонированных матриц: \n",
      " [[62 28 34]\n",
      " [63 30 26]\n",
      " [25  8 36]]\n"
     ]
    }
   ],
   "source": [
    "R = (A.T).dot(B.T)\n",
    "print('Произведение транспонированных матриц: \\n', R)"
   ]
  },
  {
   "cell_type": "markdown",
   "id": "a77331d2",
   "metadata": {},
   "source": [
    "Свойство 4. Транспонирование произведения матрицы на число равно произведению этого\n",
    "числа на транспонированную матрицу:"
   ]
  },
  {
   "cell_type": "code",
   "execution_count": 12,
   "id": "4e8d254c",
   "metadata": {},
   "outputs": [
    {
     "name": "stdout",
     "output_type": "stream",
     "text": [
      "Транспонирования произведения матриц:\n",
      " [[ 8 12 16]\n",
      " [ 8 12 16]\n",
      " [ 8 12 16]]\n"
     ]
    }
   ],
   "source": [
    "A = np.matrix('4 4 4; 6 6 6; 8 8 8')\n",
    "k = 2\n",
    "L = (k * A).T\n",
    "print('Транспонирования произведения матриц:\\n', L)"
   ]
  },
  {
   "cell_type": "code",
   "execution_count": 13,
   "id": "11bae780",
   "metadata": {},
   "outputs": [
    {
     "name": "stdout",
     "output_type": "stream",
     "text": [
      "Произведение числа на транспонированную матрицу\n",
      " [[ 8 12 16]\n",
      " [ 8 12 16]\n",
      " [ 8 12 16]]\n"
     ]
    }
   ],
   "source": [
    "R = k * (A.T) \n",
    "print('Произведение числа на транспонированную матрицу\\n', R)"
   ]
  },
  {
   "cell_type": "markdown",
   "id": "f9d1a12c",
   "metadata": {},
   "source": [
    "Свойство 5*. Определители исходной и транспонированной матрицы совпадают:"
   ]
  },
  {
   "cell_type": "code",
   "execution_count": 14,
   "id": "d50999b9",
   "metadata": {},
   "outputs": [
    {
     "name": "stdout",
     "output_type": "stream",
     "text": [
      "41\n"
     ]
    }
   ],
   "source": [
    "A = np.matrix('7 2 4; 6 3 2; 9 5 7')\n",
    "A_det = np.linalg.det(A)\n",
    "A_T_det = np.linalg.det(A.T)\n",
    "print(format(A_det, '.9g'))"
   ]
  },
  {
   "cell_type": "code",
   "execution_count": 15,
   "id": "401b10b2",
   "metadata": {},
   "outputs": [
    {
     "name": "stdout",
     "output_type": "stream",
     "text": [
      "41\n"
     ]
    }
   ],
   "source": [
    "print(format(A_T_det, '.9g'))"
   ]
  },
  {
   "cell_type": "markdown",
   "id": "92eb492b",
   "metadata": {},
   "source": [
    "# Действия над матрицами "
   ]
  },
  {
   "cell_type": "markdown",
   "id": "b59af92e",
   "metadata": {},
   "source": [
    "Свойство 1. Произведение единицы и любой заданной матрицы равно заданной матрице:"
   ]
  },
  {
   "cell_type": "code",
   "execution_count": 16,
   "id": "6593f7c3",
   "metadata": {},
   "outputs": [
    {
     "name": "stdout",
     "output_type": "stream",
     "text": [
      "[[7 2 4]\n",
      " [6 3 2]\n",
      " [9 5 7]]\n"
     ]
    }
   ],
   "source": [
    "A = np.matrix('7 2 4; 6 3 2; 9 5 7')\n",
    "L = 1 * A\n",
    "R = A\n",
    "print(L)"
   ]
  },
  {
   "cell_type": "code",
   "execution_count": 17,
   "id": "e3629e30",
   "metadata": {},
   "outputs": [
    {
     "name": "stdout",
     "output_type": "stream",
     "text": [
      "[[7 2 4]\n",
      " [6 3 2]\n",
      " [9 5 7]]\n"
     ]
    }
   ],
   "source": [
    "print(R)"
   ]
  },
  {
   "cell_type": "markdown",
   "id": "2479e880",
   "metadata": {},
   "source": [
    "Свойство 2. Произведение нуля и любой матрицы равно нулевой матрице, размерность которой\n",
    "равна исходной матрицы:"
   ]
  },
  {
   "cell_type": "code",
   "execution_count": 21,
   "id": "c4d3c8ce",
   "metadata": {},
   "outputs": [
    {
     "name": "stdout",
     "output_type": "stream",
     "text": [
      "[[0 0 0]\n",
      " [0 0 0]\n",
      " [0 0 0]]\n"
     ]
    }
   ],
   "source": [
    "A = np.matrix('7 2 4; 6 3 2; 9 5 7')\n",
    "L = 0 * A\n",
    "Z = np.matrix('0 0 0; 0 0 0; 0 0 0')\n",
    "R = Z\n",
    "print(L)"
   ]
  },
  {
   "cell_type": "code",
   "execution_count": 22,
   "id": "2bd6a5d2",
   "metadata": {},
   "outputs": [
    {
     "name": "stdout",
     "output_type": "stream",
     "text": [
      "[[0 0 0]\n",
      " [0 0 0]\n",
      " [0 0 0]]\n"
     ]
    }
   ],
   "source": [
    "print(R)"
   ]
  },
  {
   "cell_type": "markdown",
   "id": "362a15f4",
   "metadata": {},
   "source": [
    "Свойство 3. Произведение матрицы на сумму чисел равно сумме произведений матрицы на\n",
    "каждое из этих чисел:"
   ]
  },
  {
   "cell_type": "code",
   "execution_count": 24,
   "id": "def2e9dd",
   "metadata": {},
   "outputs": [
    {
     "name": "stdout",
     "output_type": "stream",
     "text": [
      "Произведение матрицы на сумму чисел \n",
      " [[35 10 20]\n",
      " [30 15 10]\n",
      " [45 25 35]]\n"
     ]
    }
   ],
   "source": [
    "A = np.matrix('7 2 4; 6 3 2; 9 5 7')\n",
    "z = 2\n",
    "v = 3\n",
    "L = A * (z + v)\n",
    "R = z * A + v * A\n",
    "print('Произведение матрицы на сумму чисел \\n', L)"
   ]
  },
  {
   "cell_type": "code",
   "execution_count": 25,
   "id": "33531bb4",
   "metadata": {},
   "outputs": [
    {
     "name": "stdout",
     "output_type": "stream",
     "text": [
      "Сумма произведений матрицы на 1 и 2 число \n",
      " [[35 10 20]\n",
      " [30 15 10]\n",
      " [45 25 35]]\n"
     ]
    }
   ],
   "source": [
    "print('Сумма произведений матрицы на 1 и 2 число \\n', R)"
   ]
  },
  {
   "cell_type": "markdown",
   "id": "579145cc",
   "metadata": {},
   "source": [
    "Свойство 4. Произведение матрицы на произведение двух чисел равно произведению второго\n",
    "числа и заданной матрицы, умноженному на первое число:\n"
   ]
  },
  {
   "cell_type": "code",
   "execution_count": 26,
   "id": "8424e8e6",
   "metadata": {},
   "outputs": [
    {
     "name": "stdout",
     "output_type": "stream",
     "text": [
      "Произведение матрицы на произведение двух чисел \n",
      " [[42 12 24]\n",
      " [36 18 12]\n",
      " [54 30 42]]\n"
     ]
    }
   ],
   "source": [
    "A = np.matrix('7 2 4; 6 3 2; 9 5 7')\n",
    "z = 2\n",
    "v = 3\n",
    "L = A * (z * v)\n",
    "R = z * (v * A)\n",
    "print('Произведение матрицы на произведение двух чисел \\n', L)"
   ]
  },
  {
   "cell_type": "code",
   "execution_count": 27,
   "id": "86f44d08",
   "metadata": {},
   "outputs": [
    {
     "name": "stdout",
     "output_type": "stream",
     "text": [
      "Произведение второго числа на матрицу, умноженное на 1 число \n",
      " [[42 12 24]\n",
      " [36 18 12]\n",
      " [54 30 42]]\n"
     ]
    }
   ],
   "source": [
    "print('Произведение второго числа на матрицу, умноженное на 1 число \\n', R)"
   ]
  },
  {
   "cell_type": "markdown",
   "id": "0962b6f9",
   "metadata": {},
   "source": [
    "Свойство 5. Произведение суммы матриц на число равно сумме произведений этих матриц на\n",
    "заданное число:"
   ]
  },
  {
   "cell_type": "code",
   "execution_count": 28,
   "id": "065c2bf8",
   "metadata": {},
   "outputs": [
    {
     "name": "stdout",
     "output_type": "stream",
     "text": [
      "Произведение суммы матриц на число \n",
      " [[24 12 21]\n",
      " [24 18 12]\n",
      " [33 24 30]]\n"
     ]
    }
   ],
   "source": [
    "A = np.matrix('7 2 4; 6 3 2; 9 5 7')\n",
    "B = np.matrix('1 2 3; 2 3 2; 2 3 3')\n",
    "v = 3\n",
    "L = v * (A + B)\n",
    "R = v * A + B * v\n",
    "print('Произведение суммы матриц на число \\n', L)"
   ]
  },
  {
   "cell_type": "code",
   "execution_count": 29,
   "id": "2cd92d26",
   "metadata": {},
   "outputs": [
    {
     "name": "stdout",
     "output_type": "stream",
     "text": [
      "Сумма произведений матриц на число \n",
      " [[24 12 21]\n",
      " [24 18 12]\n",
      " [33 24 30]]\n"
     ]
    }
   ],
   "source": [
    "print('Сумма произведений матриц на число \\n', R)"
   ]
  },
  {
   "cell_type": "markdown",
   "id": "e629404e",
   "metadata": {},
   "source": [
    "# Сложение матриц"
   ]
  },
  {
   "cell_type": "markdown",
   "id": "95eb75f0",
   "metadata": {},
   "source": [
    "Свойство 1. Коммутативность сложения. От перестановки матриц их сумма не изменяется:"
   ]
  },
  {
   "cell_type": "code",
   "execution_count": 30,
   "id": "2dcfdb38",
   "metadata": {},
   "outputs": [
    {
     "name": "stdout",
     "output_type": "stream",
     "text": [
      "Сложение первой и второй матрицы: \n",
      " [[ 8  4  7]\n",
      " [ 8  6  4]\n",
      " [11  8 10]]\n"
     ]
    }
   ],
   "source": [
    "A = np.matrix('7 2 4; 6 3 2; 9 5 7')\n",
    "B = np.matrix('1 2 3; 2 3 2; 2 3 3')\n",
    "L = A + B\n",
    "R = B + A\n",
    "print('Сложение первой и второй матрицы: \\n', L)"
   ]
  },
  {
   "cell_type": "code",
   "execution_count": 31,
   "id": "2e7648a6",
   "metadata": {},
   "outputs": [
    {
     "name": "stdout",
     "output_type": "stream",
     "text": [
      "Сложение второй и первой матрицы: \n",
      " [[ 8  4  7]\n",
      " [ 8  6  4]\n",
      " [11  8 10]]\n"
     ]
    }
   ],
   "source": [
    "print('Сложение второй и первой матрицы: \\n', R)"
   ]
  },
  {
   "cell_type": "markdown",
   "id": "d88e41f1",
   "metadata": {},
   "source": [
    "Свойство 2. Ассоциативность сложения. Результат сложения трех и более матриц не зависит от\n",
    "порядка, в котором эта операция будет выполняться:"
   ]
  },
  {
   "cell_type": "code",
   "execution_count": 32,
   "id": "ae7b7e7c",
   "metadata": {},
   "outputs": [
    {
     "name": "stdout",
     "output_type": "stream",
     "text": [
      "К сумме первой и второй матриц, прибавляем третью \n",
      " [[10  6  9]\n",
      " [12 11  7]\n",
      " [13  9 13]]\n"
     ]
    }
   ],
   "source": [
    "A = np.matrix('7 2 4; 6 3 2; 9 5 7')\n",
    "B = np.matrix('1 2 3; 2 3 2; 2 3 3')\n",
    "C = np.matrix('2 2 2; 4 5 3; 2 1 3')\n",
    "L = (A + B) + C\n",
    "R = B + (A + C)\n",
    "print('К сумме первой и второй матриц, прибавляем третью \\n', L)"
   ]
  },
  {
   "cell_type": "code",
   "execution_count": 34,
   "id": "9c2d62fd",
   "metadata": {},
   "outputs": [
    {
     "name": "stdout",
     "output_type": "stream",
     "text": [
      "Ко второй матрице прибавляем сумму первой и третьей матрицы \n",
      " [[10  6  9]\n",
      " [12 11  7]\n",
      " [13  9 13]]\n"
     ]
    }
   ],
   "source": [
    "print('Ко второй матрице прибавляем сумму первой и третьей матрицы \\n', L)"
   ]
  },
  {
   "cell_type": "markdown",
   "id": "3c571ca7",
   "metadata": {},
   "source": [
    "Свойство 3. Для любой матрицы существует противоположная ей , такая, что их сумма является\n",
    "нулевой матрицей :"
   ]
  },
  {
   "cell_type": "code",
   "execution_count": 42,
   "id": "91221dd9",
   "metadata": {},
   "outputs": [
    {
     "name": "stdout",
     "output_type": "stream",
     "text": [
      "[[0 0 0]\n",
      " [0 0 0]\n",
      " [0 0 0]]\n"
     ]
    }
   ],
   "source": [
    "A = np.matrix('7 2 4; 6 3 2; 9 5 7')\n",
    "L = A + (-1) * A\n",
    "Z = np.zeros((3,3))\n",
    "print(L)"
   ]
  },
  {
   "cell_type": "code",
   "execution_count": 43,
   "id": "4ebc3020",
   "metadata": {},
   "outputs": [
    {
     "name": "stdout",
     "output_type": "stream",
     "text": [
      "[[0. 0. 0.]\n",
      " [0. 0. 0.]\n",
      " [0. 0. 0.]]\n"
     ]
    }
   ],
   "source": [
    "print(Z)"
   ]
  },
  {
   "cell_type": "markdown",
   "id": "189730ef",
   "metadata": {},
   "source": [
    "# Умножение матриц"
   ]
  },
  {
   "cell_type": "markdown",
   "id": "01294818",
   "metadata": {},
   "source": [
    "Свойство 1. Ассоциативность умножения. Результат умножения матриц не зависит от порядка, в\n",
    "котором будет выполняться эта операция:"
   ]
  },
  {
   "cell_type": "code",
   "execution_count": 48,
   "id": "56e0eefc",
   "metadata": {},
   "outputs": [
    {
     "name": "stdout",
     "output_type": "stream",
     "text": [
      "Произведение первой и второй матриц умноженное на третью \n",
      " [[240 235 245]\n",
      " [200 197 203]\n",
      " [398 394 402]]\n"
     ]
    }
   ],
   "source": [
    "A = np.matrix('7 2 4; 6 3 2; 9 5 7')\n",
    "B = np.matrix('1 2 3; 2 3 2; 2 3 3')\n",
    "C = np.matrix('2 2 2; 4 5 3; 2 1 3')\n",
    "L = (A.dot(B)).dot(C)\n",
    "print('Произведение первой и второй матриц умноженное на третью \\n', L)"
   ]
  },
  {
   "cell_type": "code",
   "execution_count": 50,
   "id": "52919a79",
   "metadata": {},
   "outputs": [
    {
     "name": "stdout",
     "output_type": "stream",
     "text": [
      "Умножение 1 матрицы на произведение 2 и 3 \n",
      " [[240 235 245]\n",
      " [200 197 203]\n",
      " [398 394 402]]\n"
     ]
    }
   ],
   "source": [
    "R = A.dot(B.dot(C))\n",
    "print('Умножение 1 матрицы на произведение 2 и 3 \\n', R)"
   ]
  },
  {
   "cell_type": "markdown",
   "id": "57708717",
   "metadata": {},
   "source": [
    "Свойство 2. Дистрибутивность умножения. Произведение матрицы на сумму матриц равно\n",
    "сумме произведений матриц:"
   ]
  },
  {
   "cell_type": "code",
   "execution_count": 53,
   "id": "f76ade35",
   "metadata": {},
   "outputs": [
    {
     "name": "stdout",
     "output_type": "stream",
     "text": [
      "Произведение матрицы на сумму матриц \n",
      " [[ 49  60  69]\n",
      " [ 44  56  57]\n",
      " [ 85 104 112]]\n"
     ]
    }
   ],
   "source": [
    "L = A.dot(B + C)\n",
    "R = A.dot(B) + A.dot(C)\n",
    "print('Произведение матрицы на сумму матриц \\n', L)"
   ]
  },
  {
   "cell_type": "code",
   "execution_count": 54,
   "id": "3b80f64b",
   "metadata": {},
   "outputs": [
    {
     "name": "stdout",
     "output_type": "stream",
     "text": [
      "Произведение матрицы на сумму матриц \n",
      " [[ 49  60  69]\n",
      " [ 44  56  57]\n",
      " [ 85 104 112]]\n"
     ]
    }
   ],
   "source": [
    "print('Произведение матрицы на сумму матриц \\n', R)"
   ]
  },
  {
   "cell_type": "markdown",
   "id": "8e25b505",
   "metadata": {},
   "source": [
    "Свойство 3. Умножение матриц в общем виде не коммутативно. Это означает, что для матриц не\n",
    "выполняется правило независимости произведения от перестановки множителей:"
   ]
  },
  {
   "cell_type": "code",
   "execution_count": 55,
   "id": "155f36de",
   "metadata": {},
   "outputs": [
    {
     "name": "stdout",
     "output_type": "stream",
     "text": [
      "[[19 32 37]\n",
      " [16 27 30]\n",
      " [33 54 58]]\n"
     ]
    }
   ],
   "source": [
    "L = A.dot(B)\n",
    "R = B.dot(A)\n",
    "print(L)"
   ]
  },
  {
   "cell_type": "code",
   "execution_count": 56,
   "id": "d520b102",
   "metadata": {},
   "outputs": [
    {
     "name": "stdout",
     "output_type": "stream",
     "text": [
      "[[46 23 29]\n",
      " [50 23 28]\n",
      " [59 28 35]]\n"
     ]
    }
   ],
   "source": [
    "print(R)"
   ]
  },
  {
   "cell_type": "markdown",
   "id": "513e6d09",
   "metadata": {},
   "source": [
    "Свойство 4. Произведение заданной матрицы на единичную равно исходной матрице:"
   ]
  },
  {
   "cell_type": "code",
   "execution_count": 57,
   "id": "f3ae3d13",
   "metadata": {},
   "outputs": [
    {
     "name": "stdout",
     "output_type": "stream",
     "text": [
      "Произведение заданной матрицы на единичную равно исходной матрице \n",
      " [[1 2 6]\n",
      " [2 3 4]\n",
      " [6 7 8]]\n"
     ]
    }
   ],
   "source": [
    "A = np.matrix('1 2 6; 2 3 4; 6 7 8')\n",
    "E = np.matrix('1 0 0; 0 1 0; 0 0 1')\n",
    "L = E.dot(A)\n",
    "R = A.dot(E)\n",
    "print('Произведение заданной матрицы на единичную равно исходной матрице \\n', L)"
   ]
  },
  {
   "cell_type": "code",
   "execution_count": 58,
   "id": "67b21827",
   "metadata": {},
   "outputs": [
    {
     "name": "stdout",
     "output_type": "stream",
     "text": [
      "Произведение заданной матрицы на единичную равно исходной матрице \n",
      " [[1 2 6]\n",
      " [2 3 4]\n",
      " [6 7 8]]\n"
     ]
    }
   ],
   "source": [
    "print('Произведение заданной матрицы на единичную равно исходной матрице \\n', R)"
   ]
  },
  {
   "cell_type": "markdown",
   "id": "08fc7b2e",
   "metadata": {},
   "source": [
    "Свойство 5. Произведение заданной матрицы на нулевую матрицу равно нулевой матрице:"
   ]
  },
  {
   "cell_type": "code",
   "execution_count": 59,
   "id": "2e68f15c",
   "metadata": {},
   "outputs": [
    {
     "name": "stdout",
     "output_type": "stream",
     "text": [
      "[[0. 0. 0.]\n",
      " [0. 0. 0.]\n",
      " [0. 0. 0.]]\n"
     ]
    }
   ],
   "source": [
    "A = np.matrix('1 2 3; 3 4 5; 6 7 8')\n",
    "Z = np.zeros((3, 3))\n",
    "L = Z.dot(A)\n",
    "R = A.dot(Z)\n",
    "print(L)"
   ]
  },
  {
   "cell_type": "code",
   "execution_count": 60,
   "id": "c0ad694a",
   "metadata": {},
   "outputs": [
    {
     "name": "stdout",
     "output_type": "stream",
     "text": [
      "[[0. 0. 0.]\n",
      " [0. 0. 0.]\n",
      " [0. 0. 0.]]\n"
     ]
    }
   ],
   "source": [
    "print(R)"
   ]
  },
  {
   "cell_type": "markdown",
   "id": "3ca80ea8",
   "metadata": {},
   "source": [
    "# Свойства определителя матрицы"
   ]
  },
  {
   "cell_type": "code",
   "execution_count": 65,
   "id": "d6282f73",
   "metadata": {},
   "outputs": [
    {
     "name": "stdout",
     "output_type": "stream",
     "text": [
      "[[7 2 4]\n",
      " [6 3 2]\n",
      " [9 5 7]]\n"
     ]
    }
   ],
   "source": [
    "A = np.matrix('7 2 4; 6 3 2; 9 5 7')\n",
    "A_OP = np.linalg.det(A)\n",
    "A_T = A.T\n",
    "A_T_OP = np.linalg.det(A_T)\n",
    "print(A)"
   ]
  },
  {
   "cell_type": "code",
   "execution_count": 66,
   "id": "4dd9f8d4",
   "metadata": {},
   "outputs": [
    {
     "name": "stdout",
     "output_type": "stream",
     "text": [
      "[[7 6 9]\n",
      " [2 3 5]\n",
      " [4 2 7]]\n"
     ]
    }
   ],
   "source": [
    "print(A.T)"
   ]
  },
  {
   "cell_type": "code",
   "execution_count": 67,
   "id": "026b2d83",
   "metadata": {},
   "outputs": [
    {
     "name": "stdout",
     "output_type": "stream",
     "text": [
      "41.00000000000001\n"
     ]
    }
   ],
   "source": [
    "print(A_OP)"
   ]
  },
  {
   "cell_type": "code",
   "execution_count": 68,
   "id": "5c2a9700",
   "metadata": {},
   "outputs": [
    {
     "name": "stdout",
     "output_type": "stream",
     "text": [
      "41.00000000000001\n"
     ]
    }
   ],
   "source": [
    "print(A_T_OP)"
   ]
  },
  {
   "cell_type": "markdown",
   "id": "e115e6d5",
   "metadata": {},
   "source": [
    "Свойство 2. Если у матрицы есть строка или столбец, состоящие из нулей, то определитель\n",
    "такой матрицы равен нулю:"
   ]
  },
  {
   "cell_type": "code",
   "execution_count": 70,
   "id": "69081f12",
   "metadata": {},
   "outputs": [
    {
     "name": "stdout",
     "output_type": "stream",
     "text": [
      "[[0 0 0]\n",
      " [6 3 2]\n",
      " [9 5 7]]\n"
     ]
    }
   ],
   "source": [
    "A = np.matrix('0 0 0; 6 3 2; 9 5 7')\n",
    "Det_A = np.linalg.det(A)\n",
    "print(A)"
   ]
  },
  {
   "cell_type": "code",
   "execution_count": 71,
   "id": "d3a7ae86",
   "metadata": {},
   "outputs": [
    {
     "name": "stdout",
     "output_type": "stream",
     "text": [
      "Определитель:  0.0\n"
     ]
    }
   ],
   "source": [
    "print('Определитель: ', Det_A)"
   ]
  },
  {
   "cell_type": "markdown",
   "id": "ba3833d8",
   "metadata": {},
   "source": [
    "Свойство 3. При перестановке строк матрицы знак ее определителя меняется на\n",
    "противоположный:"
   ]
  },
  {
   "cell_type": "code",
   "execution_count": 72,
   "id": "6cb06697",
   "metadata": {},
   "outputs": [
    {
     "name": "stdout",
     "output_type": "stream",
     "text": [
      "41.00000000000001\n"
     ]
    }
   ],
   "source": [
    "A = np.matrix('7 2 4; 6 3 2; 9 5 7')\n",
    "B = np.matrix('6 3 2; 7 2 4; 9 5 7')\n",
    "Det_A = np.linalg.det(A)\n",
    "Det_B = np.linalg.det(B)\n",
    "print(Det_A)"
   ]
  },
  {
   "cell_type": "code",
   "execution_count": 73,
   "id": "7f1797f2",
   "metadata": {},
   "outputs": [
    {
     "name": "stdout",
     "output_type": "stream",
     "text": [
      "-41.00000000000001\n"
     ]
    }
   ],
   "source": [
    "print(Det_B)"
   ]
  },
  {
   "cell_type": "markdown",
   "id": "5c458dba",
   "metadata": {},
   "source": [
    "Свойство 4. Если у матрицы есть две одинаковые строки, то ее определитель равен нулю:"
   ]
  },
  {
   "cell_type": "code",
   "execution_count": 75,
   "id": "7f9704fe",
   "metadata": {},
   "outputs": [
    {
     "name": "stdout",
     "output_type": "stream",
     "text": [
      "0.0\n"
     ]
    }
   ],
   "source": [
    "A = np.matrix('7 2 4; 7 2 4; 9 5 7')\n",
    "Det_A = np.linalg.det(A)\n",
    "print(Det_A)"
   ]
  },
  {
   "cell_type": "markdown",
   "id": "3589c646",
   "metadata": {},
   "source": [
    "Свойство 5. Если все элементы строки или столбца матрицы умножить на какое-то число, то и\n",
    "определитель будет умножен на это число:"
   ]
  },
  {
   "cell_type": "code",
   "execution_count": 76,
   "id": "5e2ac74e",
   "metadata": {},
   "outputs": [
    {
     "name": "stdout",
     "output_type": "stream",
     "text": [
      "[[7 2 4]\n",
      " [6 3 2]\n",
      " [9 5 7]]\n"
     ]
    }
   ],
   "source": [
    "A = np.matrix('7 2 4; 6 3 2; 9 5 7')\n",
    "print(A)"
   ]
  },
  {
   "cell_type": "code",
   "execution_count": 81,
   "id": "9dd78f6b",
   "metadata": {},
   "outputs": [
    {
     "name": "stdout",
     "output_type": "stream",
     "text": [
      "[[28  8 16]\n",
      " [ 6  3  2]\n",
      " [ 9  5  7]]\n"
     ]
    }
   ],
   "source": [
    "k = 4\n",
    "B = A.copy()\n",
    "B[0, :] = k * B[0, :]\n",
    "print(B)"
   ]
  },
  {
   "cell_type": "code",
   "execution_count": 82,
   "id": "a7bb54cb",
   "metadata": {},
   "outputs": [
    {
     "name": "stdout",
     "output_type": "stream",
     "text": [
      "164.00000000000006\n"
     ]
    }
   ],
   "source": [
    "Det_B = np.linalg.det(B)\n",
    "print(Det_B)"
   ]
  },
  {
   "cell_type": "code",
   "execution_count": 83,
   "id": "6ed126df",
   "metadata": {},
   "outputs": [
    {
     "name": "stdout",
     "output_type": "stream",
     "text": [
      "164.00000000000003\n"
     ]
    }
   ],
   "source": [
    "Det_A = np.linalg.det(A) * k\n",
    "print(Det_A)"
   ]
  },
  {
   "cell_type": "markdown",
   "id": "5289e787",
   "metadata": {},
   "source": [
    "Свойство 6. Если все элементы строки или столбца можно представить как сумму двух\n",
    "слагаемых, то определитель такой матрицы равен сумме определителей двух соответствующих\n",
    "матриц:"
   ]
  },
  {
   "cell_type": "code",
   "execution_count": 89,
   "id": "8cf6ca39",
   "metadata": {},
   "outputs": [
    {
     "name": "stdout",
     "output_type": "stream",
     "text": [
      "[[7 2 4]\n",
      " [9 5 6]\n",
      " [9 5 7]]\n"
     ]
    }
   ],
   "source": [
    "A = np.matrix('7 2 4; 7 2 4; 9 5 7')\n",
    "B = np.matrix('7 2 4; 2 3 2; 9 5 7')\n",
    "C = A.copy()\n",
    "C[1, :] += B[1, :]\n",
    "print(C)"
   ]
  },
  {
   "cell_type": "code",
   "execution_count": 90,
   "id": "71cefc15",
   "metadata": {},
   "outputs": [
    {
     "name": "stdout",
     "output_type": "stream",
     "text": [
      "[[7 2 4]\n",
      " [7 2 4]\n",
      " [9 5 7]]\n"
     ]
    }
   ],
   "source": [
    "print(A)"
   ]
  },
  {
   "cell_type": "code",
   "execution_count": 91,
   "id": "8bca1771",
   "metadata": {},
   "outputs": [
    {
     "name": "stdout",
     "output_type": "stream",
     "text": [
      "[[7 2 4]\n",
      " [2 3 2]\n",
      " [9 5 7]]\n"
     ]
    }
   ],
   "source": [
    "print(B)"
   ]
  },
  {
   "cell_type": "code",
   "execution_count": 92,
   "id": "50834e6b",
   "metadata": {},
   "outputs": [
    {
     "data": {
      "text/plain": [
       "17.0"
      ]
     },
     "execution_count": 92,
     "metadata": {},
     "output_type": "execute_result"
    }
   ],
   "source": [
    "np.linalg.det(C)"
   ]
  },
  {
   "cell_type": "code",
   "execution_count": 93,
   "id": "e048aa8f",
   "metadata": {},
   "outputs": [
    {
     "data": {
      "text/plain": [
       "16.999999999999986"
      ]
     },
     "execution_count": 93,
     "metadata": {},
     "output_type": "execute_result"
    }
   ],
   "source": [
    "np.linalg.det(A) + np.linalg.det(B)"
   ]
  },
  {
   "cell_type": "markdown",
   "id": "a19a0228",
   "metadata": {},
   "source": [
    "Свойство 7. Если к элементам одной строки прибавить элементы другой строки, умноженные на\n",
    "одно и тоже число, то определитель матрицы не изменится:\n"
   ]
  },
  {
   "cell_type": "code",
   "execution_count": 94,
   "id": "f4c5aca4",
   "metadata": {},
   "outputs": [
    {
     "name": "stdout",
     "output_type": "stream",
     "text": [
      "[[7 2 4]\n",
      " [7 2 4]\n",
      " [9 5 7]]\n"
     ]
    }
   ],
   "source": [
    "A = np.matrix('7 2 4; 7 2 4; 9 5 7')\n",
    "k = 4\n",
    "B = A.copy()\n",
    "B[1, :] = B[1, :] + k * B[0, :]\n",
    "print(A)"
   ]
  },
  {
   "cell_type": "code",
   "execution_count": 95,
   "id": "00365a20",
   "metadata": {},
   "outputs": [
    {
     "name": "stdout",
     "output_type": "stream",
     "text": [
      "[[ 7  2  4]\n",
      " [35 10 20]\n",
      " [ 9  5  7]]\n"
     ]
    }
   ],
   "source": [
    "print(B)"
   ]
  },
  {
   "cell_type": "code",
   "execution_count": 99,
   "id": "398951df",
   "metadata": {},
   "outputs": [
    {
     "data": {
      "text/plain": [
       "0.0"
      ]
     },
     "execution_count": 99,
     "metadata": {},
     "output_type": "execute_result"
    }
   ],
   "source": [
    "round(np.linalg.det(A), 3)"
   ]
  },
  {
   "cell_type": "code",
   "execution_count": 100,
   "id": "86ea62ac",
   "metadata": {},
   "outputs": [
    {
     "data": {
      "text/plain": [
       "0.0"
      ]
     },
     "execution_count": 100,
     "metadata": {},
     "output_type": "execute_result"
    }
   ],
   "source": [
    "round(np.linalg.det(B), 3)"
   ]
  },
  {
   "cell_type": "markdown",
   "id": "d3355ed7",
   "metadata": {},
   "source": [
    "Свойство 8. Если строка или столбец матрицы является линейной комбинацией других строк\n",
    "(столбцов), то определитель такой матрицы равен нулю:"
   ]
  },
  {
   "cell_type": "code",
   "execution_count": 102,
   "id": "084d4dad",
   "metadata": {},
   "outputs": [
    {
     "name": "stdout",
     "output_type": "stream",
     "text": [
      "[[ 9  5  7]\n",
      " [10  4 -1]\n",
      " [ 7  2  4]]\n"
     ]
    }
   ],
   "source": [
    "A = np.matrix('9 5 7; 10 4 -1; 7 2 4')\n",
    "print(A)"
   ]
  },
  {
   "cell_type": "code",
   "execution_count": 103,
   "id": "c6320dcc",
   "metadata": {},
   "outputs": [
    {
     "data": {
      "text/plain": [
       "0.0"
      ]
     },
     "execution_count": 103,
     "metadata": {},
     "output_type": "execute_result"
    }
   ],
   "source": [
    "k = 4\n",
    "A[1, :] = A[0, :] + k * A[2, :]\n",
    "round(np.linalg.det(A), 3)"
   ]
  },
  {
   "cell_type": "markdown",
   "id": "7f1a1568",
   "metadata": {},
   "source": [
    "Свойство 9. Если матрица содержит пропорциональные строки, то ее определитель равен нулю:"
   ]
  },
  {
   "cell_type": "code",
   "execution_count": 104,
   "id": "88e1ff82",
   "metadata": {},
   "outputs": [
    {
     "name": "stdout",
     "output_type": "stream",
     "text": [
      "[[-4 -1  2]\n",
      " [10  4 -1]\n",
      " [ 7  2  4]]\n"
     ]
    }
   ],
   "source": [
    "A = np.matrix('-4 -1 2; 10 4 -1; 7 2 4')\n",
    "print(A)"
   ]
  },
  {
   "cell_type": "code",
   "execution_count": 105,
   "id": "3dd8fe4b",
   "metadata": {},
   "outputs": [
    {
     "name": "stdout",
     "output_type": "stream",
     "text": [
      "[[ -4  -1   2]\n",
      " [-16  -4   8]\n",
      " [  7   2   4]]\n"
     ]
    }
   ],
   "source": [
    "k = 4\n",
    "A[1, :] = k * A[0, :]\n",
    "print(A)"
   ]
  },
  {
   "cell_type": "code",
   "execution_count": 106,
   "id": "dc44dbfb",
   "metadata": {},
   "outputs": [
    {
     "data": {
      "text/plain": [
       "0.0"
      ]
     },
     "execution_count": 106,
     "metadata": {},
     "output_type": "execute_result"
    }
   ],
   "source": [
    "round(np.linalg.det(A), 3)"
   ]
  },
  {
   "cell_type": "markdown",
   "id": "b23189f0",
   "metadata": {},
   "source": [
    "# Рассмотрим свойства обратной матрицы.\n",
    "Свойство 1. Обратная матрица обратной матрицы есть исходная матрица:"
   ]
  },
  {
   "cell_type": "code",
   "execution_count": 109,
   "id": "c426ebe4",
   "metadata": {},
   "outputs": [
    {
     "name": "stdout",
     "output_type": "stream",
     "text": [
      "[[-4 -1  2]\n",
      " [10  4 -1]\n",
      " [ 9  5  7]]\n"
     ]
    }
   ],
   "source": [
    "A = np.matrix('-4 -1 2; 10 4 -1; 9 5 7')\n",
    "A_inv = np.linalg.inv(A)\n",
    "A_inv_inv = np.linalg.inv(A_inv)\n",
    "print(A)"
   ]
  },
  {
   "cell_type": "code",
   "execution_count": 110,
   "id": "62e3e6c5",
   "metadata": {},
   "outputs": [
    {
     "name": "stdout",
     "output_type": "stream",
     "text": [
      "[[-4. -1.  2.]\n",
      " [10.  4. -1.]\n",
      " [ 9.  5.  7.]]\n"
     ]
    }
   ],
   "source": [
    "print(A_inv_inv)"
   ]
  },
  {
   "cell_type": "markdown",
   "id": "c16cc963",
   "metadata": {},
   "source": [
    "Свойство 2. Обратная матрица транспонированной матрицы равна транспонированной матрице\n",
    "от обратной матрицы:"
   ]
  },
  {
   "cell_type": "code",
   "execution_count": 113,
   "id": "3ba4cc5b",
   "metadata": {},
   "outputs": [
    {
     "name": "stdout",
     "output_type": "stream",
     "text": [
      "[[ 0.09705882 -0.23235294  0.04117647]\n",
      " [ 0.13529412 -0.11176471 -0.09411765]\n",
      " [-0.05        0.15        0.1       ]]\n"
     ]
    }
   ],
   "source": [
    "A = np.matrix('1 -3 5; 10 4 -1; 9 5 7')\n",
    "L = np.linalg.inv(A.T)\n",
    "R = (np.linalg.inv(A)).T\n",
    "print(L)"
   ]
  },
  {
   "cell_type": "code",
   "execution_count": 114,
   "id": "df18dc6e",
   "metadata": {},
   "outputs": [
    {
     "name": "stdout",
     "output_type": "stream",
     "text": [
      "[[ 0.09705882 -0.23235294  0.04117647]\n",
      " [ 0.13529412 -0.11176471 -0.09411765]\n",
      " [-0.05        0.15        0.1       ]]\n"
     ]
    }
   ],
   "source": [
    "print(R)"
   ]
  },
  {
   "cell_type": "markdown",
   "id": "2a4615c9",
   "metadata": {},
   "source": [
    "Свойство 3. Обратная матрица произведения матриц равна произведению обратных матриц:"
   ]
  },
  {
   "cell_type": "code",
   "execution_count": 117,
   "id": "d093c391",
   "metadata": {},
   "outputs": [
    {
     "name": "stdout",
     "output_type": "stream",
     "text": [
      "[[ 0.81091618  1.06237817 -0.9122807 ]\n",
      " [ 0.34502924  0.25730994 -0.26315789]\n",
      " [-1.6705653  -1.97465887  1.75438596]]\n"
     ]
    }
   ],
   "source": [
    "A = np.matrix('1 2 3; 7 2 4; 9 5 7')\n",
    "B = np.matrix('7 2 4; 2 3 2; 8 8 5')\n",
    "L = np.linalg.inv(A.dot(B))\n",
    "R = np.linalg.inv(B).dot(np.linalg.inv(A))\n",
    "print(L)"
   ]
  },
  {
   "cell_type": "code",
   "execution_count": 118,
   "id": "04897fd8",
   "metadata": {},
   "outputs": [
    {
     "name": "stdout",
     "output_type": "stream",
     "text": [
      "[[ 0.81091618  1.06237817 -0.9122807 ]\n",
      " [ 0.34502924  0.25730994 -0.26315789]\n",
      " [-1.6705653  -1.97465887  1.75438596]]\n"
     ]
    }
   ],
   "source": [
    " print(R)"
   ]
  },
  {
   "cell_type": "code",
   "execution_count": null,
   "id": "117f3e69",
   "metadata": {},
   "outputs": [],
   "source": []
  }
 ],
 "metadata": {
  "kernelspec": {
   "display_name": "Python 3 (ipykernel)",
   "language": "python",
   "name": "python3"
  },
  "language_info": {
   "codemirror_mode": {
    "name": "ipython",
    "version": 3
   },
   "file_extension": ".py",
   "mimetype": "text/x-python",
   "name": "python",
   "nbconvert_exporter": "python",
   "pygments_lexer": "ipython3",
   "version": "3.9.13"
  }
 },
 "nbformat": 4,
 "nbformat_minor": 5
}
