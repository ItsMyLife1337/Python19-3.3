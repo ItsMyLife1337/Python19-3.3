{
 "cells": [
  {
   "cell_type": "markdown",
   "id": "17901ea2",
   "metadata": {},
   "source": [
    "# Создать ноутбук, в котором будут приведены собственные примеры ре-шения систем линейных уравнений матричным методом и методом Кра-мера. "
   ]
  },
  {
   "cell_type": "markdown",
   "id": "80ef4215",
   "metadata": {},
   "source": [
    "## Метод Крамера"
   ]
  },
  {
   "cell_type": "markdown",
   "id": "e401536f",
   "metadata": {},
   "source": [
    "Рассмотрим систему из $n$ уравнений с $n$ неизвестными.<br> Если $\\triangle \\ne 0$, то система имеет единственное решение, которое может быть определенне по формулам Крамера $x_1 = \\frac{\\triangle_1}{\\triangle};  x_2 = \\frac{\\triangle_2}{\\triangle}; x_3 = \\frac{\\triangle_3}{\\triangle}$ "
   ]
  },
  {
   "cell_type": "markdown",
   "id": "25b07b26",
   "metadata": {},
   "source": [
    "Создадим и заполним матрицу:"
   ]
  },
  {
   "cell_type": "code",
   "execution_count": 2,
   "id": "15dee047",
   "metadata": {},
   "outputs": [],
   "source": [
    "import numpy as np"
   ]
  },
  {
   "cell_type": "code",
   "execution_count": 3,
   "id": "1e07a149",
   "metadata": {},
   "outputs": [
    {
     "name": "stdout",
     "output_type": "stream",
     "text": [
      "[[ 1  3 15 19]\n",
      " [ 8 13 18  7]\n",
      " [ 5  8  9  6]\n",
      " [13 10  9  5]]\n"
     ]
    }
   ],
   "source": [
    "# Заполняем матрицу рандомными значениями от 0 до 20\n",
    "matrix = np.random.randint (0, 20, (4, 4))\n",
    "print(matrix)"
   ]
  },
  {
   "cell_type": "code",
   "execution_count": 4,
   "id": "f919cd2c",
   "metadata": {},
   "outputs": [
    {
     "name": "stdout",
     "output_type": "stream",
     "text": [
      "4668.0\n"
     ]
    }
   ],
   "source": [
    "# Ищем определитель\n",
    "op1 = np.linalg.det(matrix)\n",
    "print(op1)"
   ]
  },
  {
   "cell_type": "code",
   "execution_count": 5,
   "id": "a1e6484f",
   "metadata": {},
   "outputs": [
    {
     "name": "stdout",
     "output_type": "stream",
     "text": [
      "[[12]\n",
      " [16]\n",
      " [14]\n",
      " [10]]\n"
     ]
    }
   ],
   "source": [
    "# Заполняем рандомными значенями столбец свободных членов\n",
    "svobod = np.random.randint (0, 20, (4, 1))\n",
    "print(svobod)\n",
    "x = np.ones((4, 1))"
   ]
  },
  {
   "cell_type": "markdown",
   "id": "6cd54367",
   "metadata": {},
   "source": [
    "Найдем определитель и дополнительные определители, а также решения по формулам Крамера"
   ]
  },
  {
   "cell_type": "code",
   "execution_count": 6,
   "id": "b346ebe4",
   "metadata": {},
   "outputs": [
    {
     "name": "stdout",
     "output_type": "stream",
     "text": [
      "[[-1.06812339]\n",
      " [ 2.83547558]\n",
      " [-1.12210797]\n",
      " [ 1.12596401]]\n"
     ]
    }
   ],
   "source": [
    "# Решаем матрицу методом крамера\n",
    "if op1 != 0:\n",
    "    for i in range(4):\n",
    "        # Копируем значения в дополнительную матрицу\n",
    "        matrix_dop = matrix.copy()\n",
    "        # Подставляем столбец свободных членов в дополнительную матрицу\n",
    "        matrix_dop[:, i] = svobod[:, 0]\n",
    "        # Считаем определители и выводим решения СЛАУ\n",
    "        x[i,0] = np.linalg.det(matrix_dop) / op1\n",
    "    print(x)\n",
    "else:\n",
    "    print(\"Матрица вырожденная, нельзя продолжить.\")"
   ]
  },
  {
   "cell_type": "markdown",
   "id": "bf356061",
   "metadata": {},
   "source": [
    "## Матричный метод:"
   ]
  },
  {
   "cell_type": "markdown",
   "id": "f0c7566b",
   "metadata": {},
   "source": [
    "Пусть дана система $n$ линейных уравнений с $n$ переменными $(n \\times n)$.<br> Если основная матрица не вырождена, т.е. $\\vert A \\vert \\ne 0$, тогда для матрицы $А$ существует $А^{-1}$. Умножив матричное уравнение на $А^{-1}$ получим: $$X = А^{-1} * B$$"
   ]
  },
  {
   "cell_type": "markdown",
   "id": "754db11c",
   "metadata": {},
   "source": [
    "Создадим и заполним матрицу:"
   ]
  },
  {
   "cell_type": "code",
   "execution_count": 7,
   "id": "a5a09d85",
   "metadata": {},
   "outputs": [
    {
     "name": "stdout",
     "output_type": "stream",
     "text": [
      "[[ 5 15  5 15]\n",
      " [19  8  2  7]\n",
      " [ 1 11  4 19]\n",
      " [16 17  4  1]]\n"
     ]
    }
   ],
   "source": [
    "# Заполняем матрицу рандомными значениями\n",
    "matrix = np.random.randint (0, 20, (4, 4))\n",
    "print(matrix)"
   ]
  },
  {
   "cell_type": "markdown",
   "id": "eef1ad88",
   "metadata": {},
   "source": [
    "Найдем определитель $\\vert A \\vert$, обратную матрицу $А^{-1} = E / A$ и присоединенную $A^*$."
   ]
  },
  {
   "cell_type": "code",
   "execution_count": 8,
   "id": "2597e100",
   "metadata": {},
   "outputs": [
    {
     "name": "stdout",
     "output_type": "stream",
     "text": [
      "[[ 0.0776699   0.0776699  -0.08737864 -0.04854369]\n",
      " [-0.76504854 -0.16504854  0.64401294  0.39482201]\n",
      " [ 2.98834951  0.38834951 -2.4368932  -1.24271845]\n",
      " [-0.19029126  0.00970874  0.197411    0.03559871]]\n"
     ]
    }
   ],
   "source": [
    "# Для решения матричным методом необходимо найти обратную матрицу:\n",
    "matrix_inv = np.linalg.inv(matrix)\n",
    "print(matrix_inv)"
   ]
  },
  {
   "cell_type": "code",
   "execution_count": 9,
   "id": "2ce64893",
   "metadata": {},
   "outputs": [
    {
     "name": "stdout",
     "output_type": "stream",
     "text": [
      "-1544.9999999999995\n"
     ]
    }
   ],
   "source": [
    "# находим определитель матрциы\n",
    "op1 = np.linalg.det(matrix)\n",
    "print(op1)"
   ]
  },
  {
   "cell_type": "code",
   "execution_count": 10,
   "id": "38778c54",
   "metadata": {},
   "outputs": [
    {
     "name": "stdout",
     "output_type": "stream",
     "text": [
      "[[10]\n",
      " [ 1]\n",
      " [ 5]\n",
      " [ 8]]\n"
     ]
    }
   ],
   "source": [
    "# Заполняем столбец свободных членов (B)\n",
    "svobod = np.random.randint (0, 20, (4, 1))\n",
    "print(svobod)"
   ]
  },
  {
   "cell_type": "markdown",
   "id": "896fbdd3",
   "metadata": {},
   "source": [
    "Найдём решения СЛАУ:"
   ]
  },
  {
   "cell_type": "code",
   "execution_count": 11,
   "id": "2508f711",
   "metadata": {},
   "outputs": [
    {
     "name": "stdout",
     "output_type": "stream",
     "text": [
      "[[ 0.02912621]\n",
      " [-1.4368932 ]\n",
      " [ 8.14563107]\n",
      " [-0.62135922]]\n"
     ]
    }
   ],
   "source": [
    "# Умножаем нашу обратную матрицу на столбец свободных членов и получаем решение СЛАУ\n",
    "if op1 != 0:\n",
    "    x = matrix_inv.dot(svobod)\n",
    "    print(x)\n",
    "else: \n",
    "    print(\"Невозможно решить, т.к определитель матрицы равен 0\")"
   ]
  },
  {
   "cell_type": "markdown",
   "id": "a95f98ab",
   "metadata": {},
   "source": [
    "Найденные решения"
   ]
  },
  {
   "cell_type": "code",
   "execution_count": null,
   "id": "920fe001",
   "metadata": {},
   "outputs": [],
   "source": []
  }
 ],
 "metadata": {
  "kernelspec": {
   "display_name": "Python 3 (ipykernel)",
   "language": "python",
   "name": "python3"
  },
  "language_info": {
   "codemirror_mode": {
    "name": "ipython",
    "version": 3
   },
   "file_extension": ".py",
   "mimetype": "text/x-python",
   "name": "python",
   "nbconvert_exporter": "python",
   "pygments_lexer": "ipython3",
   "version": "3.9.13"
  }
 },
 "nbformat": 4,
 "nbformat_minor": 5
}
