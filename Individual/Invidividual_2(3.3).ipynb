{
 "cells": [
  {
   "cell_type": "markdown",
   "id": "17901ea2",
   "metadata": {},
   "source": [
    "# Создать ноутбук, в котором будут приведены собственные примеры ре-шения систем линейных уравнений матричным методом и методом Кра-мера. "
   ]
  },
  {
   "cell_type": "markdown",
   "id": "80ef4215",
   "metadata": {},
   "source": [
    "## Метод Крамера"
   ]
  },
  {
   "cell_type": "markdown",
   "id": "e401536f",
   "metadata": {},
   "source": [
    "Рассмотрим систему из $n$ уравнений с $n$ неизвестными.<br> Если $\\triangle \\ne 0$, то система имеет единственное решение, которое может быть определенне по формулам Крамера $x_1 = \\frac{\\triangle_1}{\\triangle};  x_2 = \\frac{\\triangle_2}{\\triangle}; x_3 = \\frac{\\triangle_3}{\\triangle}$ "
   ]
  },
  {
   "cell_type": "markdown",
   "id": "25b07b26",
   "metadata": {},
   "source": [
    "Создадим и заполним матрицу:"
   ]
  },
  {
   "cell_type": "code",
   "execution_count": 1,
   "id": "15dee047",
   "metadata": {},
   "outputs": [],
   "source": [
    "import numpy as np"
   ]
  },
  {
   "cell_type": "code",
   "execution_count": 2,
   "id": "1e07a149",
   "metadata": {},
   "outputs": [
    {
     "name": "stdout",
     "output_type": "stream",
     "text": [
      "[[17  7 19 15]\n",
      " [17  5 11 13]\n",
      " [ 3 18  5  3]\n",
      " [ 9 11  7 10]]\n"
     ]
    }
   ],
   "source": [
    "# Заполняем матрицу рандомными значениями от 0 до 20\n",
    "matrix = np.random.randint (0, 20, (4, 4))\n",
    "print(matrix)"
   ]
  },
  {
   "cell_type": "code",
   "execution_count": 3,
   "id": "f919cd2c",
   "metadata": {},
   "outputs": [
    {
     "name": "stdout",
     "output_type": "stream",
     "text": [
      "6344.0000000000055\n"
     ]
    }
   ],
   "source": [
    "# Ищем определитель\n",
    "op1 = np.linalg.det(matrix)\n",
    "print(op1)"
   ]
  },
  {
   "cell_type": "code",
   "execution_count": 4,
   "id": "a1e6484f",
   "metadata": {},
   "outputs": [
    {
     "name": "stdout",
     "output_type": "stream",
     "text": [
      "[[ 9]\n",
      " [ 6]\n",
      " [17]\n",
      " [ 5]]\n"
     ]
    }
   ],
   "source": [
    "# Заполняем рандомными значенями столбец свободных членов\n",
    "svobod = np.random.randint (0, 20, (4, 1))\n",
    "print(svobod)\n",
    "x = np.ones((4, 1))"
   ]
  },
  {
   "cell_type": "markdown",
   "id": "6cd54367",
   "metadata": {},
   "source": [
    "Найдем определитель и дополнительные определители, а также решения по формулам Крамера"
   ]
  },
  {
   "cell_type": "code",
   "execution_count": 6,
   "id": "b346ebe4",
   "metadata": {},
   "outputs": [
    {
     "ename": "IndexError",
     "evalue": "index 1 is out of bounds for axis 1 with size 1",
     "output_type": "error",
     "traceback": [
      "\u001b[1;31m---------------------------------------------------------------------------\u001b[0m",
      "\u001b[1;31mIndexError\u001b[0m                                Traceback (most recent call last)",
      "\u001b[1;32m~\\AppData\\Local\\Temp\\ipykernel_4956\\2812438563.py\u001b[0m in \u001b[0;36m<module>\u001b[1;34m\u001b[0m\n\u001b[0;32m      6\u001b[0m         \u001b[0mmatrix_dop\u001b[0m \u001b[1;33m=\u001b[0m \u001b[0mmatrix\u001b[0m\u001b[1;33m.\u001b[0m\u001b[0mcopy\u001b[0m\u001b[1;33m(\u001b[0m\u001b[1;33m)\u001b[0m\u001b[1;33m\u001b[0m\u001b[1;33m\u001b[0m\u001b[0m\n\u001b[0;32m      7\u001b[0m         \u001b[1;31m# Подставляем столбец свободных членов в дополнительную матрицу\u001b[0m\u001b[1;33m\u001b[0m\u001b[1;33m\u001b[0m\u001b[0m\n\u001b[1;32m----> 8\u001b[1;33m         \u001b[0mmatrix_dop\u001b[0m\u001b[1;33m[\u001b[0m\u001b[1;33m:\u001b[0m\u001b[1;33m,\u001b[0m \u001b[0mi\u001b[0m\u001b[1;33m]\u001b[0m \u001b[1;33m=\u001b[0m \u001b[0msvobod\u001b[0m\u001b[1;33m[\u001b[0m\u001b[1;33m:\u001b[0m\u001b[1;33m,\u001b[0m \u001b[0mt\u001b[0m\u001b[1;33m]\u001b[0m\u001b[1;33m\u001b[0m\u001b[1;33m\u001b[0m\u001b[0m\n\u001b[0m\u001b[0;32m      9\u001b[0m         \u001b[1;31m# Считаем определители и выводим решения СЛАУ\u001b[0m\u001b[1;33m\u001b[0m\u001b[1;33m\u001b[0m\u001b[0m\n\u001b[0;32m     10\u001b[0m         \u001b[0mx\u001b[0m\u001b[1;33m[\u001b[0m\u001b[0mi\u001b[0m\u001b[1;33m,\u001b[0m\u001b[0mt\u001b[0m\u001b[1;33m]\u001b[0m \u001b[1;33m=\u001b[0m \u001b[0mnp\u001b[0m\u001b[1;33m.\u001b[0m\u001b[0mlinalg\u001b[0m\u001b[1;33m.\u001b[0m\u001b[0mdet\u001b[0m\u001b[1;33m(\u001b[0m\u001b[0mmatrix_dop\u001b[0m\u001b[1;33m)\u001b[0m \u001b[1;33m/\u001b[0m \u001b[0mop1\u001b[0m\u001b[1;33m\u001b[0m\u001b[1;33m\u001b[0m\u001b[0m\n",
      "\u001b[1;31mIndexError\u001b[0m: index 1 is out of bounds for axis 1 with size 1"
     ]
    }
   ],
   "source": [
    "# Решаем матрицу методом крамера\n",
    "t = [1, 2, 3, 4]\n",
    "if op1 != 0:\n",
    "    for i in t:\n",
    "        # Копируем значения в дополнительную матрицу\n",
    "        matrix_dop = matrix.copy()\n",
    "        # Подставляем столбец свободных членов в дополнительную матрицу\n",
    "        matrix_dop[:, i] = svobod[:, t]\n",
    "        # Считаем определители и выводим решения СЛАУ\n",
    "        x[i,t] = np.linalg.det(matrix_dop) / op1\n",
    "    print(x)\n",
    "else:\n",
    "    print(\"Матрица вырожденная, нельзя продолжить.\")"
   ]
  },
  {
   "cell_type": "markdown",
   "id": "bf356061",
   "metadata": {},
   "source": [
    "## Матричный метод:"
   ]
  },
  {
   "cell_type": "markdown",
   "id": "f0c7566b",
   "metadata": {},
   "source": [
    "Пусть дана система $n$ линейных уравнений с $n$ переменными $(n \\times n)$.<br> Если основная матрица не вырождена, т.е. $\\vert A \\vert \\ne 0$, тогда для матрицы $А$ существует $А^{-1}$. Умножив матричное уравнение на $А^{-1}$ получим: $$X = А^{-1} * B$$"
   ]
  },
  {
   "cell_type": "markdown",
   "id": "754db11c",
   "metadata": {},
   "source": [
    "Создадим и заполним матрицу:"
   ]
  },
  {
   "cell_type": "code",
   "execution_count": 7,
   "id": "a5a09d85",
   "metadata": {},
   "outputs": [
    {
     "name": "stdout",
     "output_type": "stream",
     "text": [
      "[[ 5 15  5 15]\n",
      " [19  8  2  7]\n",
      " [ 1 11  4 19]\n",
      " [16 17  4  1]]\n"
     ]
    }
   ],
   "source": [
    "# Заполняем матрицу рандомными значениями\n",
    "matrix = np.random.randint (0, 20, (4, 4))\n",
    "print(matrix)"
   ]
  },
  {
   "cell_type": "markdown",
   "id": "eef1ad88",
   "metadata": {},
   "source": [
    "Найдем определитель $\\vert A \\vert$, обратную матрицу $А^{-1} = E / A$ и присоединенную $A^*$."
   ]
  },
  {
   "cell_type": "code",
   "execution_count": 8,
   "id": "2597e100",
   "metadata": {},
   "outputs": [
    {
     "name": "stdout",
     "output_type": "stream",
     "text": [
      "[[ 0.0776699   0.0776699  -0.08737864 -0.04854369]\n",
      " [-0.76504854 -0.16504854  0.64401294  0.39482201]\n",
      " [ 2.98834951  0.38834951 -2.4368932  -1.24271845]\n",
      " [-0.19029126  0.00970874  0.197411    0.03559871]]\n"
     ]
    }
   ],
   "source": [
    "# Для решения матричным методом необходимо найти обратную матрицу:\n",
    "matrix_inv = np.linalg.inv(matrix)\n",
    "print(matrix_inv)"
   ]
  },
  {
   "cell_type": "code",
   "execution_count": 9,
   "id": "2ce64893",
   "metadata": {},
   "outputs": [
    {
     "name": "stdout",
     "output_type": "stream",
     "text": [
      "-1544.9999999999995\n"
     ]
    }
   ],
   "source": [
    "# находим определитель матрциы\n",
    "op1 = np.linalg.det(matrix)\n",
    "print(op1)"
   ]
  },
  {
   "cell_type": "code",
   "execution_count": 10,
   "id": "38778c54",
   "metadata": {},
   "outputs": [
    {
     "name": "stdout",
     "output_type": "stream",
     "text": [
      "[[10]\n",
      " [ 1]\n",
      " [ 5]\n",
      " [ 8]]\n"
     ]
    }
   ],
   "source": [
    "# Заполняем столбец свободных членов (B)\n",
    "svobod = np.random.randint (0, 20, (4, 1))\n",
    "print(svobod)"
   ]
  },
  {
   "cell_type": "markdown",
   "id": "896fbdd3",
   "metadata": {},
   "source": [
    "Найдём решения СЛАУ:"
   ]
  },
  {
   "cell_type": "code",
   "execution_count": 11,
   "id": "2508f711",
   "metadata": {},
   "outputs": [
    {
     "name": "stdout",
     "output_type": "stream",
     "text": [
      "[[ 0.02912621]\n",
      " [-1.4368932 ]\n",
      " [ 8.14563107]\n",
      " [-0.62135922]]\n"
     ]
    }
   ],
   "source": [
    "# Умножаем нашу обратную матрицу на столбец свободных членов и получаем решение СЛАУ\n",
    "if op1 != 0:\n",
    "    x = matrix_inv.dot(svobod)\n",
    "    print(x)\n",
    "else: \n",
    "    print(\"Невозможно решить, т.к определитель матрицы равен 0\")"
   ]
  },
  {
   "cell_type": "markdown",
   "id": "a95f98ab",
   "metadata": {},
   "source": [
    "Найденные решения"
   ]
  },
  {
   "cell_type": "code",
   "execution_count": null,
   "id": "920fe001",
   "metadata": {},
   "outputs": [],
   "source": []
  }
 ],
 "metadata": {
  "kernelspec": {
   "display_name": "Python 3 (ipykernel)",
   "language": "python",
   "name": "python3"
  },
  "language_info": {
   "codemirror_mode": {
    "name": "ipython",
    "version": 3
   },
   "file_extension": ".py",
   "mimetype": "text/x-python",
   "name": "python",
   "nbconvert_exporter": "python",
   "pygments_lexer": "ipython3",
   "version": "3.9.13"
  }
 },
 "nbformat": 4,
 "nbformat_minor": 5
}
