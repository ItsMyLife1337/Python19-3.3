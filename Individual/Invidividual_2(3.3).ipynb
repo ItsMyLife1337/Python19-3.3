{
 "cells": [
  {
   "cell_type": "markdown",
   "id": "17901ea2",
   "metadata": {},
   "source": [
    "# Создать ноутбук, в котором будут приведены собственные примеры ре-шения систем линейных уравнений матричным методом и методом Кра-мера. "
   ]
  },
  {
   "cell_type": "markdown",
   "id": "80ef4215",
   "metadata": {},
   "source": [
    "## Метод Крамера"
   ]
  },
  {
   "cell_type": "markdown",
   "id": "e401536f",
   "metadata": {},
   "source": [
    "Рассмотрим систему из $n$ уравнений с $n$ неизвестными.<br> Если $\\triangle \\ne 0$, то система имеет единственное решение, которое может быть определенне по формулам Крамера $x_1 = \\frac{\\triangle_1}{\\triangle};  x_2 = \\frac{\\triangle_2}{\\triangle}; x_3 = \\frac{\\triangle_3}{\\triangle}$ "
   ]
  },
  {
   "cell_type": "markdown",
   "id": "25b07b26",
   "metadata": {},
   "source": [
    "Создадим и заполним матрицу:"
   ]
  },
  {
   "cell_type": "code",
   "execution_count": 60,
   "id": "15dee047",
   "metadata": {},
   "outputs": [],
   "source": [
    "import numpy as np"
   ]
  },
  {
   "cell_type": "code",
   "execution_count": 61,
   "id": "1e07a149",
   "metadata": {},
   "outputs": [
    {
     "name": "stdout",
     "output_type": "stream",
     "text": [
      "[[ 4  0 12 12]\n",
      " [ 6 18  3 13]\n",
      " [ 8  3  6  9]\n",
      " [ 0 18  1  5]]\n"
     ]
    }
   ],
   "source": [
    "# Заполняем матрицу рандомными значениями от 0 до 20\n",
    "matrix = np.random.randint (0, 20, (4, 4))\n",
    "print(matrix)"
   ]
  },
  {
   "cell_type": "code",
   "execution_count": 62,
   "id": "f919cd2c",
   "metadata": {},
   "outputs": [
    {
     "name": "stdout",
     "output_type": "stream",
     "text": [
      "5159.999999999992\n"
     ]
    }
   ],
   "source": [
    "# Ищем определитель\n",
    "op1 = np.linalg.det(matrix)\n",
    "print(op1)"
   ]
  },
  {
   "cell_type": "code",
   "execution_count": 63,
   "id": "a1e6484f",
   "metadata": {},
   "outputs": [
    {
     "name": "stdout",
     "output_type": "stream",
     "text": [
      "[[16]\n",
      " [ 7]\n",
      " [ 7]\n",
      " [14]]\n"
     ]
    }
   ],
   "source": [
    "# Заполняем рандомными значенями столбец свободных членов\n",
    "svobod = np.random.randint (0, 20, (4, 1))\n",
    "print(svobod)\n",
    "x = np.ones((4, 1))"
   ]
  },
  {
   "cell_type": "markdown",
   "id": "6cd54367",
   "metadata": {},
   "source": [
    "Найдем определитель и дополнительные определители, а также решения по формулам Крамера"
   ]
  },
  {
   "cell_type": "code",
   "execution_count": 64,
   "id": "b346ebe4",
   "metadata": {},
   "outputs": [
    {
     "name": "stdout",
     "output_type": "stream",
     "text": [
      "[[ 0.1627907 ]\n",
      " [ 1.09689922]\n",
      " [ 3.03488372]\n",
      " [-1.75581395]]\n"
     ]
    }
   ],
   "source": [
    "# Решаем матрицу методом крамера\n",
    "if op1 != 0:\n",
    "    for i in range(4):\n",
    "        # Копируем значения в дополнительную матрицу\n",
    "        matrix_dop = matrix.copy()\n",
    "        # Подставляем столбец свободных членов в дополнительную матрицу\n",
    "        matrix_dop[:, i] = svobod[:, 0]\n",
    "        # Считаем определители и выводим решения СЛАУ\n",
    "        x[i,0] = np.linalg.det(matrix_dop) / op1\n",
    "    print(x)\n",
    "else:\n",
    "    print(\"Матрица вырожденная, нельзя продолжить.\")"
   ]
  },
  {
   "cell_type": "markdown",
   "id": "bf356061",
   "metadata": {},
   "source": [
    "## Матричный метод:"
   ]
  },
  {
   "cell_type": "markdown",
   "id": "f0c7566b",
   "metadata": {},
   "source": [
    "Пусть дана система $n$ линейных уравнений с $n$ переменными $(n \\times n)$.<br> Если основная матрица не вырождена, т.е. $\\vert A \\vert \\ne 0$, тогда для матрицы $А$ существует $А^{-1}$. Умножив матричное уравнение на $А^{-1}$ получим: $$X = А^{-1} * B$$"
   ]
  },
  {
   "cell_type": "markdown",
   "id": "754db11c",
   "metadata": {},
   "source": [
    "Создадим и заполним матрицу:"
   ]
  },
  {
   "cell_type": "code",
   "execution_count": 43,
   "id": "a5a09d85",
   "metadata": {},
   "outputs": [
    {
     "name": "stdout",
     "output_type": "stream",
     "text": [
      "[[17 19 14  3]\n",
      " [ 1  6 15 18]\n",
      " [ 8  4 12 15]\n",
      " [16  1  4  5]]\n"
     ]
    }
   ],
   "source": [
    "# Заполняем матрицу рандомными значениями\n",
    "matrix = np.random.randint (0, 20, (4, 4))\n",
    "print(matrix)"
   ]
  },
  {
   "cell_type": "markdown",
   "id": "eef1ad88",
   "metadata": {},
   "source": [
    "Найдем определитель $\\vert A \\vert$, обратную матрицу $А^{-1} = E / A$ и присоединенную $A^*$."
   ]
  },
  {
   "cell_type": "code",
   "execution_count": 47,
   "id": "2597e100",
   "metadata": {},
   "outputs": [
    {
     "name": "stdout",
     "output_type": "stream",
     "text": [
      "[[-5.45454545e-02  1.05454545e+00 -1.52727273e+00  8.18181818e-01]\n",
      " [-2.18181818e+00  4.21818182e+01 -6.00909091e+01  2.97272727e+01]\n",
      " [ 3.58181818e+00 -6.75818182e+01  9.62909091e+01 -4.77272727e+01]\n",
      " [-2.25454545e+00  4.22545455e+01 -6.01272727e+01  2.98181818e+01]]\n"
     ]
    }
   ],
   "source": [
    "# Для решения матричным методом необходимо найти обратную матрицу:\n",
    "matrix_inv = np.linalg.inv(matrix)\n",
    "print(matrix_inv)"
   ]
  },
  {
   "cell_type": "code",
   "execution_count": 50,
   "id": "2ce64893",
   "metadata": {},
   "outputs": [
    {
     "name": "stdout",
     "output_type": "stream",
     "text": [
      "55.00000000000119\n"
     ]
    }
   ],
   "source": [
    "# Заполняем столбец свободных членов (B)\n",
    "op1 = np.linalg.det(matrix)\n",
    "print(op1)"
   ]
  },
  {
   "cell_type": "markdown",
   "id": "142303db",
   "metadata": {},
   "source": [
    "svobod = np.random.randint (0, 20, (4, 1))\n",
    "print(svobod)"
   ]
  },
  {
   "cell_type": "markdown",
   "id": "896fbdd3",
   "metadata": {},
   "source": [
    "Найдём решения СЛАУ:"
   ]
  },
  {
   "cell_type": "code",
   "execution_count": 53,
   "id": "2508f711",
   "metadata": {},
   "outputs": [
    {
     "name": "stdout",
     "output_type": "stream",
     "text": [
      "[[  12.29090909]\n",
      " [ 465.63636364]\n",
      " [-745.43636364]\n",
      " [ 465.69090909]]\n"
     ]
    }
   ],
   "source": [
    "# Умножаем нашу обратную матрицу на столбец свободных членов и получаем решение СЛАУ\n",
    "if op1 != 0:\n",
    "    x = matrix_inv.dot(svobod)\n",
    "    print(x)\n",
    "else: \n",
    "    print(\"Невозможно решить, т.к определитель матрицы равен 0\")"
   ]
  },
  {
   "cell_type": "markdown",
   "id": "a95f98ab",
   "metadata": {},
   "source": [
    "Найденные решения"
   ]
  },
  {
   "cell_type": "code",
   "execution_count": null,
   "id": "920fe001",
   "metadata": {},
   "outputs": [],
   "source": []
  }
 ],
 "metadata": {
  "kernelspec": {
   "display_name": "Python 3 (ipykernel)",
   "language": "python",
   "name": "python3"
  },
  "language_info": {
   "codemirror_mode": {
    "name": "ipython",
    "version": 3
   },
   "file_extension": ".py",
   "mimetype": "text/x-python",
   "name": "python",
   "nbconvert_exporter": "python",
   "pygments_lexer": "ipython3",
   "version": "3.9.13"
  }
 },
 "nbformat": 4,
 "nbformat_minor": 5
}
