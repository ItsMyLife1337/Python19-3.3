{
 "cells": [
  {
   "cell_type": "markdown",
   "id": "62f6a91a",
   "metadata": {},
   "source": [
    "# Проработка примеров лабораторной работы"
   ]
  },
  {
   "cell_type": "code",
   "execution_count": 1,
   "id": "b4d49243",
   "metadata": {},
   "outputs": [],
   "source": [
    "import numpy as np"
   ]
  },
  {
   "cell_type": "markdown",
   "id": "914065b4",
   "metadata": {},
   "source": [
    "Создание-вектор строки"
   ]
  },
  {
   "cell_type": "code",
   "execution_count": 3,
   "id": "1d691971",
   "metadata": {},
   "outputs": [
    {
     "name": "stdout",
     "output_type": "stream",
     "text": [
      "[1 2]\n"
     ]
    }
   ],
   "source": [
    "v_hor_np = np.array([1, 2])\n",
    "print (v_hor_np)"
   ]
  },
  {
   "cell_type": "markdown",
   "id": "20bfc0d8",
   "metadata": {},
   "source": [
    "Создание нулевой вектор-строки размера 5."
   ]
  },
  {
   "cell_type": "code",
   "execution_count": 8,
   "id": "e82ae1a9",
   "metadata": {},
   "outputs": [
    {
     "name": "stdout",
     "output_type": "stream",
     "text": [
      "[0. 0. 0. 0. 0.]\n"
     ]
    }
   ],
   "source": [
    "v_hor_zeros_v1 = np.zeros((5,))\n",
    "print(v_hor_zeros_v1)"
   ]
  },
  {
   "cell_type": "code",
   "execution_count": 9,
   "id": "82a3ef14",
   "metadata": {},
   "outputs": [
    {
     "name": "stdout",
     "output_type": "stream",
     "text": [
      "[[0. 0. 0. 0. 0.]]\n"
     ]
    }
   ],
   "source": [
    "v_hor_zeros_v2 = np.zeros((1, 5))\n",
    "print(v_hor_zeros_v2)"
   ]
  },
  {
   "cell_type": "markdown",
   "id": "ce08719b",
   "metadata": {},
   "source": [
    "Построим единичную вектор-строку"
   ]
  },
  {
   "cell_type": "code",
   "execution_count": 10,
   "id": "9ec7d5aa",
   "metadata": {},
   "outputs": [
    {
     "name": "stdout",
     "output_type": "stream",
     "text": [
      "[1. 1. 1. 1. 1.]\n"
     ]
    }
   ],
   "source": [
    "v_hor_one_v1 = np.ones((5,))\n",
    "print(v_hor_one_v1)"
   ]
  },
  {
   "cell_type": "code",
   "execution_count": 11,
   "id": "31c29f42",
   "metadata": {},
   "outputs": [
    {
     "name": "stdout",
     "output_type": "stream",
     "text": [
      "[[1. 1. 1. 1. 1.]]\n"
     ]
    }
   ],
   "source": [
    "v_hor_one_v2 = np.ones((1, 5))\n",
    "print(v_hor_one_v2)"
   ]
  },
  {
   "cell_type": "markdown",
   "id": "9f71308b",
   "metadata": {},
   "source": [
    "Вектор-столбец"
   ]
  },
  {
   "cell_type": "code",
   "execution_count": 12,
   "id": "cff4d775",
   "metadata": {},
   "outputs": [
    {
     "name": "stdout",
     "output_type": "stream",
     "text": [
      "[[1]\n",
      " [2]]\n"
     ]
    }
   ],
   "source": [
    "v_vert_np = np.array(([1], [2]))\n",
    "print(v_vert_np)"
   ]
  },
  {
   "cell_type": "markdown",
   "id": "c9e7a5b6",
   "metadata": {},
   "source": [
    "Нулевой вектор столбец"
   ]
  },
  {
   "cell_type": "code",
   "execution_count": 13,
   "id": "50171759",
   "metadata": {},
   "outputs": [
    {
     "name": "stdout",
     "output_type": "stream",
     "text": [
      "[[0.]\n",
      " [0.]\n",
      " [0.]\n",
      " [0.]\n",
      " [0.]]\n"
     ]
    }
   ],
   "source": [
    "v_vert_zeros = np.zeros((5, 1))\n",
    "print(v_vert_zeros)"
   ]
  },
  {
   "cell_type": "markdown",
   "id": "bd6022d3",
   "metadata": {},
   "source": [
    "Единичный вектор-столбец"
   ]
  },
  {
   "cell_type": "code",
   "execution_count": 14,
   "id": "ff59f425",
   "metadata": {},
   "outputs": [
    {
     "name": "stdout",
     "output_type": "stream",
     "text": [
      "[[1.]\n",
      " [1.]\n",
      " [1.]\n",
      " [1.]\n",
      " [1.]]\n"
     ]
    }
   ],
   "source": [
    "v_vert_ones = np.ones((5, 1))\n",
    "print(v_vert_ones)"
   ]
  },
  {
   "cell_type": "markdown",
   "id": "3db0eebd",
   "metadata": {},
   "source": [
    "# Квадратная матрица"
   ]
  },
  {
   "cell_type": "code",
   "execution_count": 22,
   "id": "6532bfc8",
   "metadata": {},
   "outputs": [
    {
     "name": "stdout",
     "output_type": "stream",
     "text": [
      "[[1 2 3]\n",
      " [4 5 6]\n",
      " [7 8 9]]\n"
     ]
    }
   ],
   "source": [
    "m_sqr_arr = np.array([[1,2,3], [4,5,6], [7,8,9]])\n",
    "print(m_sqr_arr)"
   ]
  },
  {
   "cell_type": "code",
   "execution_count": 23,
   "id": "8694d418",
   "metadata": {},
   "outputs": [
    {
     "name": "stdout",
     "output_type": "stream",
     "text": [
      "[[1 2 3]\n",
      " [4 5 6]\n",
      " [7 8 9]]\n"
     ]
    }
   ],
   "source": [
    "m_sqr = [[1,2,3], [4,5,6], [7,8,9]]\n",
    "m_sqr_arr = np.array(m_sqr)\n",
    "print(m_sqr_arr)"
   ]
  },
  {
   "cell_type": "code",
   "execution_count": 24,
   "id": "38cc5d90",
   "metadata": {},
   "outputs": [
    {
     "name": "stdout",
     "output_type": "stream",
     "text": [
      "[[1 2 3]\n",
      " [4 5 6]\n",
      " [7 8 9]]\n"
     ]
    }
   ],
   "source": [
    "m_sqr = [[1, 2, 3], [4, 5, 6], [7, 8, 9]]\n",
    "m_sqr_arr = np.array(m_sqr)\n",
    "print(m_sqr_arr)"
   ]
  },
  {
   "cell_type": "code",
   "execution_count": 25,
   "id": "d2aa52b9",
   "metadata": {},
   "outputs": [
    {
     "name": "stdout",
     "output_type": "stream",
     "text": [
      "[[1 2 3]\n",
      " [4 5 6]\n",
      " [7 8 9]]\n"
     ]
    }
   ],
   "source": [
    "m_sqr_mx = np.matrix([[1, 2, 3], [4, 5, 6], [7, 8, 9]])\n",
    "print(m_sqr_mx)"
   ]
  },
  {
   "cell_type": "code",
   "execution_count": 26,
   "id": "2735d005",
   "metadata": {},
   "outputs": [
    {
     "name": "stdout",
     "output_type": "stream",
     "text": [
      "[[1 2 3]\n",
      " [4 5 6]\n",
      " [7 8 9]]\n"
     ]
    }
   ],
   "source": [
    "m_sqr_mx = np.matrix('1 2 3; 4 5 6; 7 8 9')\n",
    "print(m_sqr_mx)"
   ]
  },
  {
   "cell_type": "markdown",
   "id": "2d010790",
   "metadata": {},
   "source": [
    "# Диагональная матрица"
   ]
  },
  {
   "cell_type": "code",
   "execution_count": 27,
   "id": "fca0cd25",
   "metadata": {},
   "outputs": [
    {
     "name": "stdout",
     "output_type": "stream",
     "text": [
      "[[1 0 0]\n",
      " [0 5 0]\n",
      " [0 0 9]]\n"
     ]
    }
   ],
   "source": [
    "m_diag = [[1, 0, 0], [0, 5, 0], [0, 0, 9]]\n",
    "m_diag_np = np.matrix(m_diag)\n",
    "print(m_diag_np)"
   ]
  },
  {
   "cell_type": "code",
   "execution_count": 28,
   "id": "351d2572",
   "metadata": {},
   "outputs": [],
   "source": [
    "m_sqr_mx = np.matrix('1 2 3; 4 5 6; 7 8 9')"
   ]
  },
  {
   "cell_type": "code",
   "execution_count": 29,
   "id": "3495e893",
   "metadata": {},
   "outputs": [
    {
     "name": "stdout",
     "output_type": "stream",
     "text": [
      "[1 5 9]\n"
     ]
    }
   ],
   "source": [
    "diag = np.diag(m_sqr_mx)\n",
    "print(diag)"
   ]
  },
  {
   "cell_type": "code",
   "execution_count": 30,
   "id": "84e2eeac",
   "metadata": {},
   "outputs": [
    {
     "name": "stdout",
     "output_type": "stream",
     "text": [
      "[[1 0 0]\n",
      " [0 5 0]\n",
      " [0 0 9]]\n"
     ]
    }
   ],
   "source": [
    "m_diag_np = np.diag(np.diag(m_sqr_mx))\n",
    "print(m_diag_np)"
   ]
  },
  {
   "cell_type": "markdown",
   "id": "704244cd",
   "metadata": {},
   "source": [
    "# Единичная матрица"
   ]
  },
  {
   "cell_type": "code",
   "execution_count": 31,
   "id": "f52b5675",
   "metadata": {},
   "outputs": [
    {
     "name": "stdout",
     "output_type": "stream",
     "text": [
      "[[1 0 0]\n",
      " [0 1 0]\n",
      " [0 0 1]]\n"
     ]
    }
   ],
   "source": [
    "m_e = [[1, 0, 0], [0, 1, 0], [0, 0, 1]]\n",
    "m_e_np = np.matrix(m_e)\n",
    "print(m_e_np)"
   ]
  },
  {
   "cell_type": "markdown",
   "id": "8a6a54d0",
   "metadata": {},
   "source": [
    "Построение единичной матрицы с помощью специальной функции eye()"
   ]
  },
  {
   "cell_type": "code",
   "execution_count": 32,
   "id": "9392e950",
   "metadata": {},
   "outputs": [
    {
     "name": "stdout",
     "output_type": "stream",
     "text": [
      "[[1. 0. 0.]\n",
      " [0. 1. 0.]\n",
      " [0. 0. 1.]]\n"
     ]
    }
   ],
   "source": [
    "m_eye = np.eye(3)\n",
    "print(m_eye)"
   ]
  },
  {
   "cell_type": "markdown",
   "id": "2fdfda9f",
   "metadata": {},
   "source": [
    "Тоже самое можно сделать с помощью функции identity()\n",
    "Передаём в качестве аргумента данной функции размерность матрицы - 3"
   ]
  },
  {
   "cell_type": "code",
   "execution_count": 34,
   "id": "4e443cf1",
   "metadata": {},
   "outputs": [
    {
     "name": "stdout",
     "output_type": "stream",
     "text": [
      "[[1. 0. 0.]\n",
      " [0. 1. 0.]\n",
      " [0. 0. 1.]]\n"
     ]
    }
   ],
   "source": [
    "m_idnt = np.identity(3)\n",
    "print(m_idnt)"
   ]
  },
  {
   "cell_type": "markdown",
   "id": "5e0f160b",
   "metadata": {},
   "source": [
    "# Нулевая матрица\n",
    "Есть функция zeros() для задания нулевой матрицы"
   ]
  },
  {
   "cell_type": "code",
   "execution_count": 35,
   "id": "d44242f1",
   "metadata": {},
   "outputs": [
    {
     "name": "stdout",
     "output_type": "stream",
     "text": [
      "[[0. 0. 0.]\n",
      " [0. 0. 0.]\n",
      " [0. 0. 0.]]\n"
     ]
    }
   ],
   "source": [
    "m_zeros = np.zeros((3, 3))\n",
    "print(m_zeros)"
   ]
  },
  {
   "cell_type": "markdown",
   "id": "f3b5f4f8",
   "metadata": {},
   "source": [
    "# Задание матрицы в общем виде\n",
    "Есть 2 варианта задания матрицы с помощью функции matrix() или списки Python"
   ]
  },
  {
   "cell_type": "code",
   "execution_count": 36,
   "id": "847ee271",
   "metadata": {},
   "outputs": [
    {
     "name": "stdout",
     "output_type": "stream",
     "text": [
      "[[1 2 3]\n",
      " [4 5 6]]\n"
     ]
    }
   ],
   "source": [
    "m_mx = np.matrix('1 2 3; 4 5 6')\n",
    "print(m_mx)"
   ]
  },
  {
   "cell_type": "markdown",
   "id": "897625ee",
   "metadata": {},
   "source": [
    "Если же вы хотите создать матрицу заданного размера с произвольным содержимым, чтобы\n",
    "потом ее заполнить, проще всего для того использовать функцию zeros(), которая создаст\n",
    "матрицу заданного размера, заполненную нулями."
   ]
  },
  {
   "cell_type": "code",
   "execution_count": 37,
   "id": "9fc0ca9a",
   "metadata": {},
   "outputs": [
    {
     "name": "stdout",
     "output_type": "stream",
     "text": [
      "[[0. 0. 0. 0. 0.]\n",
      " [0. 0. 0. 0. 0.]]\n"
     ]
    }
   ],
   "source": [
    "m_var = np.zeros((2, 5))\n",
    "print(m_var)"
   ]
  },
  {
   "cell_type": "markdown",
   "id": "c8fceafc",
   "metadata": {},
   "source": [
    "# Транспонирование матрицы"
   ]
  },
  {
   "cell_type": "code",
   "execution_count": 38,
   "id": "b7f99b1e",
   "metadata": {},
   "outputs": [
    {
     "name": "stdout",
     "output_type": "stream",
     "text": [
      "[[1 2 3]\n",
      " [4 5 6]]\n"
     ]
    }
   ],
   "source": [
    "A = np.matrix('1 2 3; 4 5 6')\n",
    "print(A)"
   ]
  },
  {
   "cell_type": "markdown",
   "id": "75b0e073",
   "metadata": {},
   "source": [
    "Транспонируем матрицу с помощью метода transpose():"
   ]
  },
  {
   "cell_type": "code",
   "execution_count": 39,
   "id": "c7a08ee6",
   "metadata": {
    "scrolled": true
   },
   "outputs": [
    {
     "name": "stdout",
     "output_type": "stream",
     "text": [
      "[[1 4]\n",
      " [2 5]\n",
      " [3 6]]\n"
     ]
    }
   ],
   "source": [
    "A_t = A.transpose()\n",
    "print(A_t)"
   ]
  },
  {
   "cell_type": "markdown",
   "id": "32bcffbe",
   "metadata": {},
   "source": [
    "Сокращенный вариант транспонирования:"
   ]
  },
  {
   "cell_type": "code",
   "execution_count": 40,
   "id": "f8eef4a4",
   "metadata": {},
   "outputs": [
    {
     "name": "stdout",
     "output_type": "stream",
     "text": [
      "[[1 4]\n",
      " [2 5]\n",
      " [3 6]]\n"
     ]
    }
   ],
   "source": [
    "print(A.T)"
   ]
  },
  {
   "cell_type": "markdown",
   "id": "d0bdbf65",
   "metadata": {},
   "source": [
    "Дважды транспонированная матрица равна исходной матрице:"
   ]
  },
  {
   "cell_type": "code",
   "execution_count": 42,
   "id": "bbcd1250",
   "metadata": {},
   "outputs": [
    {
     "name": "stdout",
     "output_type": "stream",
     "text": [
      "[[1 2 3]\n",
      " [4 5 6]]\n",
      "[[1 2 3]\n",
      " [4 5 6]]\n"
     ]
    }
   ],
   "source": [
    "A = np.matrix('1 2 3; 4 5 6')\n",
    "print(A)\n",
    "R = (A.T).T\n",
    "print(R)"
   ]
  },
  {
   "cell_type": "markdown",
   "id": "6169bd6e",
   "metadata": {},
   "source": [
    "## Транспонирование суммы матриц равно сумме транспонированных матриц:"
   ]
  },
  {
   "cell_type": "code",
   "execution_count": 43,
   "id": "4085347e",
   "metadata": {},
   "outputs": [
    {
     "name": "stdout",
     "output_type": "stream",
     "text": [
      "[[ 8  4]\n",
      " [10 12]\n",
      " [12 11]]\n",
      "[[ 8  4]\n",
      " [10 12]\n",
      " [12 11]]\n"
     ]
    }
   ],
   "source": [
    "A = np.matrix('1 2 3; 4 5 6')\n",
    "B = np.matrix('7 8 9; 0 7 5')\n",
    "L = (A + B).T\n",
    "R = A.T + B.T\n",
    "print(L)\n",
    "print(R)"
   ]
  },
  {
   "cell_type": "markdown",
   "id": "6691a851",
   "metadata": {},
   "source": [
    "Транспонирование произведения матриц равно произведению транспонированных \n",
    "матриц расставленных в обратном порядке:"
   ]
  },
  {
   "cell_type": "code",
   "execution_count": 95,
   "id": "ecd677bf",
   "metadata": {},
   "outputs": [
    {
     "name": "stdout",
     "output_type": "stream",
     "text": [
      "[[19 43]\n",
      " [22 50]]\n",
      "[[19 43]\n",
      " [22 50]]\n"
     ]
    }
   ],
   "source": [
    "A = np.matrix('1 2; 3 4')\n",
    "B = np.matrix('5 6; 7 8')\n",
    "L = (A.dot(B)).T\n",
    "R = (B.T).dot(A.T)\n",
    "print(L)\n",
    "print(R)"
   ]
  },
  {
   "cell_type": "markdown",
   "id": "2622d242",
   "metadata": {},
   "source": [
    "Транспонирование произведения матрицы на число равно произведению этого\n",
    "числа на транспонированную матрицу:"
   ]
  },
  {
   "cell_type": "code",
   "execution_count": 45,
   "id": "3cea5826",
   "metadata": {},
   "outputs": [
    {
     "name": "stdout",
     "output_type": "stream",
     "text": [
      "[[ 3 12]\n",
      " [ 6 15]\n",
      " [ 9 18]]\n",
      "[[ 3 12]\n",
      " [ 6 15]\n",
      " [ 9 18]]\n"
     ]
    }
   ],
   "source": [
    "A = np.matrix('1 2 3; 4 5 6')\n",
    "k = 3\n",
    "L = (k * A).T\n",
    "R = k * (A.T)\n",
    "print(L)\n",
    "print(R)"
   ]
  },
  {
   "cell_type": "markdown",
   "id": "b0dea4b1",
   "metadata": {},
   "source": [
    "## Определители исходной и транспонированной матрицы совпадают:"
   ]
  },
  {
   "cell_type": "code",
   "execution_count": 47,
   "id": "490fdddc",
   "metadata": {},
   "outputs": [
    {
     "name": "stdout",
     "output_type": "stream",
     "text": [
      "-2\n",
      "-2\n"
     ]
    }
   ],
   "source": [
    "A = np.matrix('1 2; 3 4')\n",
    "A_det = np.linalg.det(A)\n",
    "A_T_det = np.linalg.det(A.T)\n",
    "print(format(A_det, '.9g'))\n",
    "print(format(A_T_det, '.9g'))"
   ]
  },
  {
   "cell_type": "markdown",
   "id": "cbee60fa",
   "metadata": {},
   "source": [
    "## Действия над матрицами"
   ]
  },
  {
   "cell_type": "markdown",
   "id": "5b12eff4",
   "metadata": {},
   "source": [
    "умножение матрицы на число"
   ]
  },
  {
   "cell_type": "code",
   "execution_count": 48,
   "id": "c1d0bede",
   "metadata": {},
   "outputs": [
    {
     "name": "stdout",
     "output_type": "stream",
     "text": [
      "[[ 3  6  9]\n",
      " [12 15 18]]\n"
     ]
    }
   ],
   "source": [
    "A = np.matrix('1 2 3; 4 5 6')\n",
    "C = 3 * A\n",
    "print(C)"
   ]
  },
  {
   "cell_type": "markdown",
   "id": "bd0543f1",
   "metadata": {},
   "source": [
    "Свойство 1. Произведение единицы и любой заданной матрицы равно заданной матрице:"
   ]
  },
  {
   "cell_type": "code",
   "execution_count": 49,
   "id": "c0cea602",
   "metadata": {},
   "outputs": [
    {
     "name": "stdout",
     "output_type": "stream",
     "text": [
      "[[1 2]\n",
      " [3 4]]\n",
      "[[1 2]\n",
      " [3 4]]\n"
     ]
    }
   ],
   "source": [
    "A = np.matrix('1 2; 3 4')\n",
    "L = 1 * A\n",
    "R = A\n",
    "print(L)\n",
    "print(R)\n"
   ]
  },
  {
   "cell_type": "markdown",
   "id": "7f7fcb96",
   "metadata": {},
   "source": [
    "Свойство 2. Произведение нуля и любой матрицы равно нулевой матрице, размерность которой\n",
    "равна исходной матрицы:"
   ]
  },
  {
   "cell_type": "code",
   "execution_count": 50,
   "id": "195bdc10",
   "metadata": {},
   "outputs": [
    {
     "name": "stdout",
     "output_type": "stream",
     "text": [
      "[[0 0]\n",
      " [0 0]]\n"
     ]
    }
   ],
   "source": [
    "A = np.matrix('1 2; 3 4')\n",
    "Z = np.matrix('0 0; 0 0')\n",
    "L = 0 * A\n",
    "R = Z\n",
    "print(L)"
   ]
  },
  {
   "cell_type": "markdown",
   "id": "0ddfd5cd",
   "metadata": {},
   "source": [
    "Свойство 3. Произведение матрицы на сумму чисел равно сумме произведений матрицы на\n",
    "каждое из этих чисел:"
   ]
  },
  {
   "cell_type": "code",
   "execution_count": 52,
   "id": "d3611604",
   "metadata": {},
   "outputs": [
    {
     "name": "stdout",
     "output_type": "stream",
     "text": [
      "[[ 5 10]\n",
      " [15 20]]\n",
      "[[ 5 10]\n",
      " [15 20]]\n"
     ]
    }
   ],
   "source": [
    "A = np.matrix('1 2; 3 4')\n",
    "p = 2\n",
    "q = 3\n",
    "L = (p + q) * A\n",
    "R = p * A + q * A\n",
    "print(L)\n",
    "print(R)"
   ]
  },
  {
   "cell_type": "markdown",
   "id": "22d9ac05",
   "metadata": {},
   "source": [
    "Свойство 4. Произведение матрицы на произведение двух чисел равно произведению второго\n",
    "числа и заданной матрицы, умноженному на первое число:\n"
   ]
  },
  {
   "cell_type": "code",
   "execution_count": 53,
   "id": "16755431",
   "metadata": {},
   "outputs": [
    {
     "name": "stdout",
     "output_type": "stream",
     "text": [
      "[[ 6 12]\n",
      " [18 24]]\n",
      "[[ 6 12]\n",
      " [18 24]]\n"
     ]
    }
   ],
   "source": [
    "A = np.matrix('1 2; 3 4')\n",
    "p = 2\n",
    "q = 3\n",
    "L = (p * q) * A\n",
    "R = p * (q * A)\n",
    "print(L)\n",
    "print(R)"
   ]
  },
  {
   "cell_type": "markdown",
   "id": "4a9ea4ba",
   "metadata": {},
   "source": [
    "Свойство 5. Произведение суммы матриц на число равно сумме произведений этих матриц на\n",
    "заданное число:\n"
   ]
  },
  {
   "cell_type": "code",
   "execution_count": 54,
   "id": "fc28f12f",
   "metadata": {},
   "outputs": [
    {
     "name": "stdout",
     "output_type": "stream",
     "text": [
      "[[18 24]\n",
      " [30 36]]\n",
      "[[18 24]\n",
      " [30 36]]\n"
     ]
    }
   ],
   "source": [
    "A = np.matrix('1 2; 3 4')\n",
    "B = np.matrix('5 6; 7 8')\n",
    "k = 3\n",
    "L = k * (A + B)\n",
    "R = k * A + k * B\n",
    "print(L)\n",
    "print(R)"
   ]
  },
  {
   "cell_type": "markdown",
   "id": "36eb52e6",
   "metadata": {},
   "source": [
    "# Сложение матриц"
   ]
  },
  {
   "cell_type": "code",
   "execution_count": 55,
   "id": "af606c73",
   "metadata": {},
   "outputs": [
    {
     "name": "stdout",
     "output_type": "stream",
     "text": [
      "[[ 9  7  8]\n",
      " [14 11 19]]\n"
     ]
    }
   ],
   "source": [
    "A = np.matrix('1 6 3; 8 2 7')\n",
    "B = np.matrix('8 1 5; 6 9 12')\n",
    "C = A + B\n",
    "print(C)"
   ]
  },
  {
   "cell_type": "markdown",
   "id": "b04a98bc",
   "metadata": {},
   "source": [
    "Свойство 1. Коммутативность сложения. От перестановки матриц их сумма не изменяется:"
   ]
  },
  {
   "cell_type": "code",
   "execution_count": 56,
   "id": "f26df4bb",
   "metadata": {},
   "outputs": [
    {
     "name": "stdout",
     "output_type": "stream",
     "text": [
      "[[ 6  8]\n",
      " [10 12]]\n",
      "[[ 6  8]\n",
      " [10 12]]\n"
     ]
    }
   ],
   "source": [
    "A = np.matrix('1 2; 3 4')\n",
    "B = np.matrix('5 6; 7 8')\n",
    "L = A + B\n",
    "R = B + A\n",
    "print(L)\n",
    "print(R)"
   ]
  },
  {
   "cell_type": "markdown",
   "id": "24eb10e1",
   "metadata": {},
   "source": [
    "Свойство 2. Ассоциативность сложения. Результат сложения трех и более матриц не зависит от\n",
    "порядка, в котором эта операция будет выполняться:"
   ]
  },
  {
   "cell_type": "code",
   "execution_count": 58,
   "id": "6fa4618b",
   "metadata": {},
   "outputs": [
    {
     "name": "stdout",
     "output_type": "stream",
     "text": [
      "[[ 7 15]\n",
      " [19 15]]\n",
      "[[ 7 15]\n",
      " [19 15]]\n"
     ]
    }
   ],
   "source": [
    "A = np.matrix('1 2; 3 4')\n",
    "B = np.matrix('5 6; 7 8')\n",
    "C = np.matrix('1 7; 9 3')\n",
    "L = A + (B + C)\n",
    "R = (A + B) + C\n",
    "print(L)\n",
    "print(R)"
   ]
  },
  {
   "cell_type": "markdown",
   "id": "b34b2b4f",
   "metadata": {},
   "source": [
    "Свойство 3. Для любой матрицы существует противоположная ей , такая, что их сумма является\n",
    "нулевой матрицей :"
   ]
  },
  {
   "cell_type": "code",
   "execution_count": 59,
   "id": "254d48b0",
   "metadata": {},
   "outputs": [
    {
     "name": "stdout",
     "output_type": "stream",
     "text": [
      "[[0 0]\n",
      " [0 0]]\n",
      "[[0 0]\n",
      " [0 0]]\n"
     ]
    }
   ],
   "source": [
    "A = np.matrix('1 2; 3 4')\n",
    "Z = np.matrix('0 0; 0 0')\n",
    "L = A + (-1)*A\n",
    "print(L)\n",
    "print(Z)"
   ]
  },
  {
   "cell_type": "markdown",
   "id": "1a2e7e82",
   "metadata": {},
   "source": [
    "# Умножение матриц"
   ]
  },
  {
   "cell_type": "markdown",
   "id": "1ef692f1",
   "metadata": {},
   "source": [
    "Решим задачу умножения матриц на языке Python. Для этого будем использовать функцию dot()\n",
    "из библиотеки Numpy:"
   ]
  },
  {
   "cell_type": "code",
   "execution_count": 60,
   "id": "e50a629b",
   "metadata": {},
   "outputs": [
    {
     "name": "stdout",
     "output_type": "stream",
     "text": [
      "[[31 19]\n",
      " [85 55]]\n"
     ]
    }
   ],
   "source": [
    "A = np.matrix('1 2 3; 4 5 6')\n",
    "B = np.matrix('7 8; 9 1; 2 3')\n",
    "C = A.dot(B)\n",
    "print(C)"
   ]
  },
  {
   "cell_type": "markdown",
   "id": "4735a90e",
   "metadata": {},
   "source": [
    "Свойство 1. Ассоциативность умножения. Результат умножения матриц не зависит от порядка, в\n",
    "котором будет выполняться эта операция:"
   ]
  },
  {
   "cell_type": "code",
   "execution_count": 61,
   "id": "6bc09fb7",
   "metadata": {},
   "outputs": [
    {
     "name": "stdout",
     "output_type": "stream",
     "text": [
      "[[192 252]\n",
      " [436 572]]\n",
      "[[192 252]\n",
      " [436 572]]\n"
     ]
    }
   ],
   "source": [
    "A = np.matrix('1 2; 3 4')\n",
    "B = np.matrix('5 6; 7 8')\n",
    "C = np.matrix('2 4; 7 8')\n",
    "L = A.dot(B.dot(C))\n",
    "R = (A.dot(B)).dot(C)\n",
    "print(L)\n",
    "print(R)"
   ]
  },
  {
   "cell_type": "markdown",
   "id": "b0d70145",
   "metadata": {},
   "source": [
    "Свойство 2. Дистрибутивность умножения. Произведение матрицы на сумму матриц равно\n",
    "сумме произведений матриц:"
   ]
  },
  {
   "cell_type": "code",
   "execution_count": 62,
   "id": "2f744bd0",
   "metadata": {},
   "outputs": [
    {
     "name": "stdout",
     "output_type": "stream",
     "text": [
      "[[35 42]\n",
      " [77 94]]\n",
      "[[35 42]\n",
      " [77 94]]\n"
     ]
    }
   ],
   "source": [
    "A = np.matrix('1 2; 3 4')\n",
    "B = np.matrix('5 6; 7 8')\n",
    "C = np.matrix('2 4; 7 8')\n",
    "L = A.dot(B + C)\n",
    "R = A.dot(B) + A.dot(C)\n",
    "print(L)\n",
    "print(R)"
   ]
  },
  {
   "cell_type": "markdown",
   "id": "4032eedc",
   "metadata": {},
   "source": [
    "Свойство 3. Умножение матриц в общем виде не коммутативно. Это означает, что для матриц не\n",
    "выполняется правило независимости произведения от перестановки множителей:"
   ]
  },
  {
   "cell_type": "code",
   "execution_count": 63,
   "id": "7c552430",
   "metadata": {},
   "outputs": [
    {
     "name": "stdout",
     "output_type": "stream",
     "text": [
      "[[19 22]\n",
      " [43 50]]\n",
      "[[23 34]\n",
      " [31 46]]\n"
     ]
    }
   ],
   "source": [
    "A = np.matrix('1 2; 3 4')\n",
    "B = np.matrix('5 6; 7 8')\n",
    "L = A.dot(B)\n",
    "R = B.dot(A)\n",
    "print(L)\n",
    "print(R)"
   ]
  },
  {
   "cell_type": "markdown",
   "id": "f0f24568",
   "metadata": {},
   "source": [
    "Свойство 4. Произведение заданной матрицы на единичную равно исходной матрице:"
   ]
  },
  {
   "cell_type": "code",
   "execution_count": 64,
   "id": "b42925bf",
   "metadata": {},
   "outputs": [
    {
     "name": "stdout",
     "output_type": "stream",
     "text": [
      "[[1 2]\n",
      " [3 4]]\n",
      "[[1 2]\n",
      " [3 4]]\n",
      "[[1 2]\n",
      " [3 4]]\n"
     ]
    }
   ],
   "source": [
    "A = np.matrix('1 2; 3 4')\n",
    "E = np.matrix('1 0; 0 1')\n",
    "L = E.dot(A)\n",
    "R = A.dot(E)\n",
    "print(L)\n",
    "print(R)\n",
    "print(A)"
   ]
  },
  {
   "cell_type": "markdown",
   "id": "605bcc43",
   "metadata": {},
   "source": [
    "Свойство 5. Произведение заданной матрицы на нулевую матрицу равно нулевой матрице:"
   ]
  },
  {
   "cell_type": "code",
   "execution_count": 65,
   "id": "651eb9f6",
   "metadata": {},
   "outputs": [
    {
     "name": "stdout",
     "output_type": "stream",
     "text": [
      "[[0 0]\n",
      " [0 0]]\n",
      "[[0 0]\n",
      " [0 0]]\n",
      "[[0 0]\n",
      " [0 0]]\n"
     ]
    }
   ],
   "source": [
    "A = np.matrix('1 2; 3 4')\n",
    "Z = np.matrix('0 0; 0 0')\n",
    "L = Z.dot(A)\n",
    "R = A.dot(Z)\n",
    "print(L)\n",
    "print(R)\n",
    "print(Z)"
   ]
  },
  {
   "cell_type": "markdown",
   "id": "d98e52cd",
   "metadata": {},
   "source": [
    "# Определитель матрицы"
   ]
  },
  {
   "cell_type": "markdown",
   "id": "fee6274f",
   "metadata": {},
   "source": [
    "На Python определитель посчитать очень просто. Создадим матрицу A размера 3×3 из\n",
    "приведенного выше численного примера:"
   ]
  },
  {
   "cell_type": "code",
   "execution_count": 66,
   "id": "b085fc8a",
   "metadata": {},
   "outputs": [
    {
     "name": "stdout",
     "output_type": "stream",
     "text": [
      "[[-4 -1  2]\n",
      " [10  4 -1]\n",
      " [ 8  3  1]]\n"
     ]
    }
   ],
   "source": [
    "A = np.matrix('-4 -1 2; 10 4 -1; 8 3 1')\n",
    "print(A)"
   ]
  },
  {
   "cell_type": "code",
   "execution_count": 67,
   "id": "a5b2dfb4",
   "metadata": {},
   "outputs": [
    {
     "data": {
      "text/plain": [
       "-14.000000000000009"
      ]
     },
     "execution_count": 67,
     "metadata": {},
     "output_type": "execute_result"
    }
   ],
   "source": [
    "np.linalg.det(A)"
   ]
  },
  {
   "cell_type": "markdown",
   "id": "f9968a3b",
   "metadata": {},
   "source": [
    "## Свойства определителя матрицы."
   ]
  },
  {
   "cell_type": "markdown",
   "id": "ae854808",
   "metadata": {},
   "source": [
    "Свойство 1. Определитель матрицы остается неизменным при ее транспонировании:"
   ]
  },
  {
   "cell_type": "code",
   "execution_count": 68,
   "id": "eda7959b",
   "metadata": {},
   "outputs": [
    {
     "name": "stdout",
     "output_type": "stream",
     "text": [
      "[[-4 -1  2]\n",
      " [10  4 -1]\n",
      " [ 8  3  1]]\n",
      "[[-4 10  8]\n",
      " [-1  4  3]\n",
      " [ 2 -1  1]]\n"
     ]
    }
   ],
   "source": [
    "A = np.matrix('-4 -1 2; 10 4 -1; 8 3 1')\n",
    "print(A)\n",
    "print(A.T)"
   ]
  },
  {
   "cell_type": "code",
   "execution_count": 69,
   "id": "3cd46152",
   "metadata": {},
   "outputs": [
    {
     "name": "stdout",
     "output_type": "stream",
     "text": [
      "-14.0\n",
      "-14.0\n"
     ]
    }
   ],
   "source": [
    ">>> det_A = round(np.linalg.det(A), 3)\n",
    ">>> det_A_t = round(np.linalg.det(A.T), 3)\n",
    ">>> print(det_A)\n",
    ">>> print(det_A_t)"
   ]
  },
  {
   "cell_type": "markdown",
   "id": "c4131578",
   "metadata": {},
   "source": [
    "Свойство 2. Если у матрицы есть строка или столбец, состоящие из нулей, то определитель\n",
    "такой матрицы равен нулю:"
   ]
  },
  {
   "cell_type": "code",
   "execution_count": 71,
   "id": "e52364b6",
   "metadata": {},
   "outputs": [
    {
     "name": "stdout",
     "output_type": "stream",
     "text": [
      "[[-4 -1  2]\n",
      " [ 0  0  0]\n",
      " [ 8  3  1]]\n"
     ]
    },
    {
     "data": {
      "text/plain": [
       "0.0"
      ]
     },
     "execution_count": 71,
     "metadata": {},
     "output_type": "execute_result"
    }
   ],
   "source": [
    "A = np.matrix('-4 -1 2; 0 0 0; 8 3 1')\n",
    "print(A)\n",
    "np.linalg.det(A)"
   ]
  },
  {
   "cell_type": "markdown",
   "id": "9c25e891",
   "metadata": {},
   "source": [
    "Свойство 3. При перестановке строк матрицы знак ее определителя меняется на\n",
    "противоположный:"
   ]
  },
  {
   "cell_type": "code",
   "execution_count": 73,
   "id": "a2c5b0cf",
   "metadata": {},
   "outputs": [
    {
     "name": "stdout",
     "output_type": "stream",
     "text": [
      "[[-4 -1  2]\n",
      " [10  4 -1]\n",
      " [ 8  3  1]]\n",
      "[[10  4 -1]\n",
      " [-4 -1  2]\n",
      " [ 8  3  1]]\n"
     ]
    },
    {
     "data": {
      "text/plain": [
       "-14.0"
      ]
     },
     "execution_count": 73,
     "metadata": {},
     "output_type": "execute_result"
    }
   ],
   "source": [
    "A = np.matrix('-4 -1 2; 10 4 -1; 8 3 1')\n",
    "print(A)\n",
    "B = np.matrix('10 4 -1; -4 -1 2; 8 3 1')\n",
    "print(B)\n",
    "round(np.linalg.det(A), 3)"
   ]
  },
  {
   "cell_type": "code",
   "execution_count": 74,
   "id": "f5014587",
   "metadata": {},
   "outputs": [
    {
     "data": {
      "text/plain": [
       "14.0"
      ]
     },
     "execution_count": 74,
     "metadata": {},
     "output_type": "execute_result"
    }
   ],
   "source": [
    "round(np.linalg.det(B), 3)"
   ]
  },
  {
   "cell_type": "markdown",
   "id": "d192c19c",
   "metadata": {},
   "source": [
    "Свойство 4. Если у матрицы есть две одинаковые строки, то ее определитель равен нулю:"
   ]
  },
  {
   "cell_type": "code",
   "execution_count": 75,
   "id": "5b8d3229",
   "metadata": {},
   "outputs": [
    {
     "name": "stdout",
     "output_type": "stream",
     "text": [
      "[[-4 -1  2]\n",
      " [-4 -1  2]\n",
      " [ 8  3  1]]\n"
     ]
    },
    {
     "data": {
      "text/plain": [
       "0.0"
      ]
     },
     "execution_count": 75,
     "metadata": {},
     "output_type": "execute_result"
    }
   ],
   "source": [
    "A = np.matrix('-4 -1 2; -4 -1 2; 8 3 1')\n",
    "print(A)\n",
    "np.linalg.det(A)"
   ]
  },
  {
   "cell_type": "markdown",
   "id": "1ccf6e3e",
   "metadata": {},
   "source": [
    "Свойство 5. Если все элементы строки или столбца матрицы умножить на какое-то число, то и\n",
    "определитель будет умножен на это число:"
   ]
  },
  {
   "cell_type": "code",
   "execution_count": 77,
   "id": "4c8f8f08",
   "metadata": {},
   "outputs": [
    {
     "name": "stdout",
     "output_type": "stream",
     "text": [
      "[[-4 -1  2]\n",
      " [10  4 -1]\n",
      " [ 8  3  1]]\n",
      "[[-4 -1  2]\n",
      " [10  4 -1]\n",
      " [16  6  2]]\n"
     ]
    },
    {
     "data": {
      "text/plain": [
       "-28.0"
      ]
     },
     "execution_count": 77,
     "metadata": {},
     "output_type": "execute_result"
    }
   ],
   "source": [
    "A = np.matrix('-4 -1 2; 10 4 -1; 8 3 1')\n",
    "print(A)\n",
    "k = 2\n",
    "B = A.copy()\n",
    "B[2, :] = k * B[2, :]\n",
    "print(B)\n",
    "det_A = round(np.linalg.det(A), 3)\n",
    "det_B = round(np.linalg.det(B), 3)\n",
    "det_A * k"
   ]
  },
  {
   "cell_type": "code",
   "execution_count": 78,
   "id": "02f53e81",
   "metadata": {},
   "outputs": [
    {
     "data": {
      "text/plain": [
       "-28.0"
      ]
     },
     "execution_count": 78,
     "metadata": {},
     "output_type": "execute_result"
    }
   ],
   "source": [
    "det_B"
   ]
  },
  {
   "cell_type": "markdown",
   "id": "3935adfd",
   "metadata": {},
   "source": [
    "Свойство 6. Если все элементы строки или столбца можно представить как сумму двух\n",
    "слагаемых, то определитель такой матрицы равен сумме определителей двух соответствующих\n",
    "матриц:"
   ]
  },
  {
   "cell_type": "code",
   "execution_count": 79,
   "id": "0241ab5d",
   "metadata": {},
   "outputs": [
    {
     "name": "stdout",
     "output_type": "stream",
     "text": [
      "[[-4 -1  2]\n",
      " [ 4  2  4]\n",
      " [ 8  3  1]]\n",
      "[[-4 -1  2]\n",
      " [-4 -1  2]\n",
      " [ 8  3  1]]\n",
      "[[-4 -1  2]\n",
      " [ 8  3  2]\n",
      " [ 8  3  1]]\n"
     ]
    },
    {
     "data": {
      "text/plain": [
       "4.0"
      ]
     },
     "execution_count": 79,
     "metadata": {},
     "output_type": "execute_result"
    }
   ],
   "source": [
    "A = np.matrix('-4 -1 2; -4 -1 2; 8 3 1')\n",
    "B = np.matrix('-4 -1 2; 8 3 2; 8 3 1')\n",
    "C = A.copy()\n",
    "C[1, :] += B[1, :]\n",
    "print(C)\n",
    "print(A)\n",
    "print(B)\n",
    "round(np.linalg.det(C), 3)"
   ]
  },
  {
   "cell_type": "code",
   "execution_count": 80,
   "id": "e453aa4c",
   "metadata": {},
   "outputs": [
    {
     "data": {
      "text/plain": [
       "4.0"
      ]
     },
     "execution_count": 80,
     "metadata": {},
     "output_type": "execute_result"
    }
   ],
   "source": [
    "round(np.linalg.det(A), 3) + round(np.linalg.det(B), 3)"
   ]
  },
  {
   "cell_type": "markdown",
   "id": "f3ed90dc",
   "metadata": {},
   "source": [
    "Свойство 7. Если к элементам одной строки прибавить элементы другой строки, умноженные на\n",
    "одно и тоже число, то определитель матрицы не изменится:"
   ]
  },
  {
   "cell_type": "code",
   "execution_count": 81,
   "id": "58978cc6",
   "metadata": {},
   "outputs": [
    {
     "name": "stdout",
     "output_type": "stream",
     "text": [
      "[[-4 -1  2]\n",
      " [10  4 -1]\n",
      " [ 8  3  1]]\n",
      "[[-4 -1  2]\n",
      " [ 2  2  3]\n",
      " [ 8  3  1]]\n"
     ]
    },
    {
     "data": {
      "text/plain": [
       "-14.0"
      ]
     },
     "execution_count": 81,
     "metadata": {},
     "output_type": "execute_result"
    }
   ],
   "source": [
    "A = np.matrix('-4 -1 2; 10 4 -1; 8 3 1')\n",
    "k = 2\n",
    "B = A.copy()\n",
    "B[1, :] = B[1, :] + k * B[0, :]\n",
    "print(A)\n",
    "print(B)\n",
    "round(np.linalg.det(A), 3)"
   ]
  },
  {
   "cell_type": "code",
   "execution_count": 82,
   "id": "4d1e8c98",
   "metadata": {},
   "outputs": [
    {
     "data": {
      "text/plain": [
       "-14.0"
      ]
     },
     "execution_count": 82,
     "metadata": {},
     "output_type": "execute_result"
    }
   ],
   "source": [
    "round(np.linalg.det(B), 3)"
   ]
  },
  {
   "cell_type": "markdown",
   "id": "c5ca2eb7",
   "metadata": {},
   "source": [
    "Свойство 8. Если строка или столбец матрицы является линейной комбинацией других строк\n",
    "(столбцов), то определитель такой матрицы равен нулю:"
   ]
  },
  {
   "cell_type": "code",
   "execution_count": 83,
   "id": "f15f162a",
   "metadata": {},
   "outputs": [
    {
     "name": "stdout",
     "output_type": "stream",
     "text": [
      "[[-4 -1  2]\n",
      " [10  4 -1]\n",
      " [ 8  3  1]]\n"
     ]
    },
    {
     "data": {
      "text/plain": [
       "0.0"
      ]
     },
     "execution_count": 83,
     "metadata": {},
     "output_type": "execute_result"
    }
   ],
   "source": [
    "A = np.matrix('-4 -1 2; 10 4 -1; 8 3 1')\n",
    "print(A)\n",
    "k = 2\n",
    "A[1, :] = A[0, :] + k * A[2, :]\n",
    "round(np.linalg.det(A), 3)"
   ]
  },
  {
   "cell_type": "markdown",
   "id": "ab0d7b73",
   "metadata": {},
   "source": [
    "Свойство 9. Если матрица содержит пропорциональные строки, то ее определитель равен нулю:"
   ]
  },
  {
   "cell_type": "code",
   "execution_count": 84,
   "id": "5204a9af",
   "metadata": {},
   "outputs": [
    {
     "name": "stdout",
     "output_type": "stream",
     "text": [
      "[[-4 -1  2]\n",
      " [10  4 -1]\n",
      " [ 8  3  1]]\n",
      "[[-4 -1  2]\n",
      " [-8 -2  4]\n",
      " [ 8  3  1]]\n"
     ]
    },
    {
     "data": {
      "text/plain": [
       "0.0"
      ]
     },
     "execution_count": 84,
     "metadata": {},
     "output_type": "execute_result"
    }
   ],
   "source": [
    "A = np.matrix('-4 -1 2; 10 4 -1; 8 3 1')\n",
    "print(A)\n",
    "k = 2\n",
    "A[1, :] = k * A[0, :]\n",
    "print(A)\n",
    "round(np.linalg.det(A), 3)"
   ]
  },
  {
   "cell_type": "markdown",
   "id": "56705bd4",
   "metadata": {},
   "source": [
    "# Обратная матрица"
   ]
  },
  {
   "cell_type": "markdown",
   "id": "8ed50a6f",
   "metadata": {},
   "source": [
    "Решим задачу определения обратной матрицы на Python. Для получения обратной матрицы\n",
    "будем использовать функцию *inv()*:"
   ]
  },
  {
   "cell_type": "code",
   "execution_count": 85,
   "id": "d4901ee6",
   "metadata": {},
   "outputs": [
    {
     "name": "stdout",
     "output_type": "stream",
     "text": [
      "[[ 0.45454545  0.27272727]\n",
      " [-0.18181818  0.09090909]]\n"
     ]
    }
   ],
   "source": [
    "A = np.matrix('1 -3; 2 5')\n",
    "A_inv = np.linalg.inv(A)\n",
    "print(A_inv)"
   ]
  },
  {
   "cell_type": "markdown",
   "id": "23bd7c8a",
   "metadata": {},
   "source": [
    "Свойство 1. Обратная матрица обратной матрицы есть исходная матрица:"
   ]
  },
  {
   "cell_type": "code",
   "execution_count": 86,
   "id": "8c7f1297",
   "metadata": {},
   "outputs": [
    {
     "name": "stdout",
     "output_type": "stream",
     "text": [
      "[[ 1. -3.]\n",
      " [ 2.  5.]]\n"
     ]
    }
   ],
   "source": [
    "A = np.matrix('1. -3.; 2. 5.')\n",
    "A_inv = np.linalg.inv(A)\n",
    "A_inv_inv = np.linalg.inv(A_inv)\n",
    "print(A)"
   ]
  },
  {
   "cell_type": "code",
   "execution_count": 87,
   "id": "88849ae5",
   "metadata": {},
   "outputs": [
    {
     "name": "stdout",
     "output_type": "stream",
     "text": [
      "[[ 1. -3.]\n",
      " [ 2.  5.]]\n"
     ]
    }
   ],
   "source": [
    "print(A_inv_inv)"
   ]
  },
  {
   "cell_type": "markdown",
   "id": "b2bffcdb",
   "metadata": {},
   "source": [
    "Свойство 2. Обратная матрица транспонированной матрицы равна транспонированной матрице\n",
    "от обратной матрицы:"
   ]
  },
  {
   "cell_type": "code",
   "execution_count": 88,
   "id": "80d2f408",
   "metadata": {},
   "outputs": [
    {
     "name": "stdout",
     "output_type": "stream",
     "text": [
      "[[ 0.45454545 -0.18181818]\n",
      " [ 0.27272727  0.09090909]]\n"
     ]
    }
   ],
   "source": [
    "A = np.matrix('1. -3.; 2. 5.')\n",
    "L = np.linalg.inv(A.T)\n",
    "R = (np.linalg.inv(A)).T\n",
    "print(L)"
   ]
  },
  {
   "cell_type": "code",
   "execution_count": 89,
   "id": "471502c5",
   "metadata": {},
   "outputs": [
    {
     "name": "stdout",
     "output_type": "stream",
     "text": [
      "[[ 0.45454545 -0.18181818]\n",
      " [ 0.27272727  0.09090909]]\n"
     ]
    }
   ],
   "source": [
    "print(R)"
   ]
  },
  {
   "cell_type": "markdown",
   "id": "8988edad",
   "metadata": {},
   "source": [
    "Свойство 3. Обратная матрица произведения матриц равна произведению обратных матриц:"
   ]
  },
  {
   "cell_type": "code",
   "execution_count": 90,
   "id": "57f39f9c",
   "metadata": {},
   "outputs": [
    {
     "name": "stdout",
     "output_type": "stream",
     "text": [
      "[[ 0.09454545  0.03272727]\n",
      " [-0.03454545  0.00727273]]\n"
     ]
    }
   ],
   "source": [
    "A = np.matrix('1. -3.; 2. 5.')\n",
    "B = np.matrix('7. 6.; 1. 8.')\n",
    "L = np.linalg.inv(A.dot(B))\n",
    "R = np.linalg.inv(B).dot(np.linalg.inv(A))\n",
    "print(L)"
   ]
  },
  {
   "cell_type": "code",
   "execution_count": 91,
   "id": "ce09e6fc",
   "metadata": {},
   "outputs": [
    {
     "name": "stdout",
     "output_type": "stream",
     "text": [
      "[[ 0.09454545  0.03272727]\n",
      " [-0.03454545  0.00727273]]\n"
     ]
    }
   ],
   "source": [
    "print(R)"
   ]
  },
  {
   "cell_type": "markdown",
   "id": "35f6b1e3",
   "metadata": {},
   "source": [
    "# Ранг матрицы"
   ]
  },
  {
   "cell_type": "code",
   "execution_count": 92,
   "id": "d31f06ae",
   "metadata": {},
   "outputs": [
    {
     "name": "stdout",
     "output_type": "stream",
     "text": [
      "[[1. 0. 0. 0.]\n",
      " [0. 1. 0. 0.]\n",
      " [0. 0. 1. 0.]\n",
      " [0. 0. 0. 1.]]\n"
     ]
    }
   ],
   "source": [
    "m_eye = np.eye(4)\n",
    "print(m_eye)"
   ]
  },
  {
   "cell_type": "code",
   "execution_count": 93,
   "id": "6afb9545",
   "metadata": {},
   "outputs": [
    {
     "name": "stdout",
     "output_type": "stream",
     "text": [
      "4\n"
     ]
    }
   ],
   "source": [
    "rank = np.linalg.matrix_rank(m_eye)\n",
    "print(rank)"
   ]
  },
  {
   "cell_type": "code",
   "execution_count": 94,
   "id": "b672a62b",
   "metadata": {},
   "outputs": [
    {
     "name": "stdout",
     "output_type": "stream",
     "text": [
      "[[1. 0. 0. 0.]\n",
      " [0. 1. 0. 0.]\n",
      " [0. 0. 1. 0.]\n",
      " [0. 0. 0. 0.]]\n",
      "3\n"
     ]
    }
   ],
   "source": [
    "m_eye[3][3] = 0\n",
    "print(m_eye)\n",
    "rank = np.linalg.matrix_rank(m_eye)\n",
    "print(rank)"
   ]
  },
  {
   "cell_type": "code",
   "execution_count": null,
   "id": "01cfc7b7",
   "metadata": {},
   "outputs": [],
   "source": []
  }
 ],
 "metadata": {
  "kernelspec": {
   "display_name": "Python 3 (ipykernel)",
   "language": "python",
   "name": "python3"
  },
  "language_info": {
   "codemirror_mode": {
    "name": "ipython",
    "version": 3
   },
   "file_extension": ".py",
   "mimetype": "text/x-python",
   "name": "python",
   "nbconvert_exporter": "python",
   "pygments_lexer": "ipython3",
   "version": "3.9.13"
  }
 },
 "nbformat": 4,
 "nbformat_minor": 5
}
